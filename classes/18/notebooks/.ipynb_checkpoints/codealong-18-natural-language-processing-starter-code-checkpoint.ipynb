{
 "cells": [
  {
   "cell_type": "markdown",
   "metadata": {},
   "source": [
    "# DS-SF-30 | Codealong 18: Natural Language Processing"
   ]
  },
  {
   "cell_type": "markdown",
   "metadata": {},
   "source": [
    "## >>> One-time setup"
   ]
  },
  {
   "cell_type": "code",
   "execution_count": 1,
   "metadata": {
    "collapsed": false
   },
   "outputs": [],
   "source": [
    "'''\n",
    "import nltk\n",
    "nltk.download()\n",
    "'''\n",
    "\n",
    "pass"
   ]
  },
  {
   "cell_type": "markdown",
   "metadata": {},
   "source": [
    "## <<< One-time setup"
   ]
  },
  {
   "cell_type": "code",
   "execution_count": 2,
   "metadata": {
    "collapsed": false
   },
   "outputs": [
    {
     "name": "stderr",
     "output_type": "stream",
     "text": [
      "/Users/andreasbastian/anaconda2/lib/python2.7/site-packages/matplotlib/font_manager.py:273: UserWarning: Matplotlib is building the font cache using fc-list. This may take a moment.\n",
      "  warnings.warn('Matplotlib is building the font cache using fc-list. This may take a moment.')\n"
     ]
    }
   ],
   "source": [
    "import os\n",
    "\n",
    "import numpy as np\n",
    "import pandas as pd\n",
    "pd.set_option('display.max_rows', 10)\n",
    "pd.set_option('display.notebook_repr_html', True)\n",
    "pd.set_option('display.max_columns', 10)\n",
    "\n",
    "import string\n",
    "import unicodedata\n",
    "from nltk import tokenize, corpus, stem\n",
    "\n",
    "from sklearn import feature_extraction, linear_model, ensemble, cross_validation, metrics, decomposition\n",
    "\n",
    "import matplotlib.pyplot as plt\n",
    "%matplotlib inline\n",
    "plt.style.use('ggplot')"
   ]
  },
  {
   "cell_type": "markdown",
   "metadata": {},
   "source": [
    "## Tokenization"
   ]
  },
  {
   "cell_type": "code",
   "execution_count": 3,
   "metadata": {
    "collapsed": true
   },
   "outputs": [],
   "source": [
    "def tokenize_text(document):\n",
    "    document = document.encode('utf-8')\n",
    "\n",
    "    # Convert text to lowercase\n",
    "    document = document.lower()\n",
    "\n",
    "    # Tokenize\n",
    "    tokens = tokenize.word_tokenize(document)\n",
    "\n",
    "    # Remove punctuation in tokens and then remove empty tokens\n",
    "    tokens = [token.translate(None, string.punctuation) for token in tokens]\n",
    "    tokens = [token for token in tokens if token] #gets rid of empty strings\n",
    "\n",
    "    # Remove stop words\n",
    "    tokens = [token for token in tokens if not token in corpus.stopwords.words('english')]\n",
    "\n",
    "    return tokens"
   ]
  },
  {
   "cell_type": "code",
   "execution_count": 4,
   "metadata": {
    "collapsed": false
   },
   "outputs": [
    {
     "data": {
      "text/plain": [
       "['sentence', 'wait', 'another', 'third']"
      ]
     },
     "execution_count": 4,
     "metadata": {},
     "output_type": "execute_result"
    }
   ],
   "source": [
    "tokens = tokenize_text(\"This is a sentence...  Wait, here's another.  And a third!\")\n",
    "\n",
    "tokens"
   ]
  },
  {
   "cell_type": "markdown",
   "metadata": {},
   "source": [
    "## Stemming"
   ]
  },
  {
   "cell_type": "code",
   "execution_count": 5,
   "metadata": {
    "collapsed": false
   },
   "outputs": [],
   "source": [
    "class Stemmer:\n",
    "    stemmer = stem.porter.PorterStemmer()\n",
    "\n",
    "    @staticmethod\n",
    "    def stem_tokens(tokens):\n",
    "        return [Stemmer.stemmer.stem(token) for token in tokens]"
   ]
  },
  {
   "cell_type": "code",
   "execution_count": 6,
   "metadata": {
    "collapsed": false
   },
   "outputs": [
    {
     "data": {
      "text/plain": [
       "[u'sentenc', u'wait', u'anoth', u'third']"
      ]
     },
     "execution_count": 6,
     "metadata": {},
     "output_type": "execute_result"
    }
   ],
   "source": [
    "tokens = Stemmer.stem_tokens(tokens)\n",
    "\n",
    "tokens"
   ]
  },
  {
   "cell_type": "markdown",
   "metadata": {},
   "source": [
    "## Book reviews"
   ]
  },
  {
   "cell_type": "markdown",
   "metadata": {},
   "source": [
    "Below, we will be analyzing a partial list of the reviews for J.K. Rowling's The Casual Vacancy.  (https://www.amazon.com/dp/0316228532)\n",
    "\n",
    "Our dataset is a subset of http://snap.stanford.edu/data/amazon/productGraph/categoryFiles/reviews_Books_5.json.gz."
   ]
  },
  {
   "cell_type": "code",
   "execution_count": 28,
   "metadata": {
    "collapsed": false
   },
   "outputs": [],
   "source": [
    "df = pd.read_csv(os.path.join('..', 'datasets', 'dataset-18-reviews.csv'))"
   ]
  },
  {
   "cell_type": "code",
   "execution_count": 29,
   "metadata": {
    "collapsed": false
   },
   "outputs": [
    {
     "data": {
      "text/html": [
       "<div>\n",
       "<table border=\"1\" class=\"dataframe\">\n",
       "  <thead>\n",
       "    <tr style=\"text-align: right;\">\n",
       "      <th></th>\n",
       "      <th>date</th>\n",
       "      <th>id</th>\n",
       "      <th>author</th>\n",
       "      <th>title</th>\n",
       "      <th>body</th>\n",
       "      <th>star_rating</th>\n",
       "    </tr>\n",
       "  </thead>\n",
       "  <tbody>\n",
       "    <tr>\n",
       "      <th>0</th>\n",
       "      <td>2016-12-11</td>\n",
       "      <td>R3SH1N77GNTD9K</td>\n",
       "      <td>Stefi</td>\n",
       "      <td>Great read</td>\n",
       "      <td>Very moving story. Great effortless writing wh...</td>\n",
       "      <td>5.0</td>\n",
       "    </tr>\n",
       "    <tr>\n",
       "      <th>1</th>\n",
       "      <td>2016-12-11</td>\n",
       "      <td>RVOEQK3JK4LY2</td>\n",
       "      <td>Amazon Customer</td>\n",
       "      <td>Great book! Does not disappoint</td>\n",
       "      <td>Great book!  Does not disappoint.  Wonderful c...</td>\n",
       "      <td>5.0</td>\n",
       "    </tr>\n",
       "    <tr>\n",
       "      <th>2</th>\n",
       "      <td>2016-12-11</td>\n",
       "      <td>RCU7OTNRDJBOS</td>\n",
       "      <td>Priscilla Seaton</td>\n",
       "      <td>Disturbing in its accurate reflection of human...</td>\n",
       "      <td>A very absorbing book. Not at all what I expec...</td>\n",
       "      <td>4.0</td>\n",
       "    </tr>\n",
       "    <tr>\n",
       "      <th>3</th>\n",
       "      <td>2016-12-10</td>\n",
       "      <td>R257OLQTPXYQ82</td>\n",
       "      <td>J</td>\n",
       "      <td>Superb</td>\n",
       "      <td>Lives intertwined, humor,sadness, superior sto...</td>\n",
       "      <td>5.0</td>\n",
       "    </tr>\n",
       "    <tr>\n",
       "      <th>4</th>\n",
       "      <td>2016-12-10</td>\n",
       "      <td>R1LNKO30KAXCUM</td>\n",
       "      <td>Roberta L. Sherrill</td>\n",
       "      <td>One Star</td>\n",
       "      <td>Disappointing..... finally quit reading it.  S...</td>\n",
       "      <td>1.0</td>\n",
       "    </tr>\n",
       "    <tr>\n",
       "      <th>...</th>\n",
       "      <td>...</td>\n",
       "      <td>...</td>\n",
       "      <td>...</td>\n",
       "      <td>...</td>\n",
       "      <td>...</td>\n",
       "      <td>...</td>\n",
       "    </tr>\n",
       "    <tr>\n",
       "      <th>5796</th>\n",
       "      <td>2012-09-27</td>\n",
       "      <td>RT2TE0W92SL67</td>\n",
       "      <td>Tricia K.</td>\n",
       "      <td>Seriously?  $17 bucks for a computer file???  ...</td>\n",
       "      <td>Premise sounds dull as dirt.  For $17 for a co...</td>\n",
       "      <td>1.0</td>\n",
       "    </tr>\n",
       "    <tr>\n",
       "      <th>5797</th>\n",
       "      <td>2012-09-27</td>\n",
       "      <td>R14ZGYPSP9H0Y7</td>\n",
       "      <td>Pretzel</td>\n",
       "      <td>A must read</td>\n",
       "      <td>The depth of character development and storyli...</td>\n",
       "      <td>5.0</td>\n",
       "    </tr>\n",
       "    <tr>\n",
       "      <th>5798</th>\n",
       "      <td>2012-09-27</td>\n",
       "      <td>R1913ISIDAGQ1A</td>\n",
       "      <td>Prodigy</td>\n",
       "      <td>I love it</td>\n",
       "      <td>The book was great and I will love to re-read ...</td>\n",
       "      <td>5.0</td>\n",
       "    </tr>\n",
       "    <tr>\n",
       "      <th>5799</th>\n",
       "      <td>2012-09-27</td>\n",
       "      <td>R2JY771IW7RI3R</td>\n",
       "      <td>David Katz</td>\n",
       "      <td>Kendle price too expensive</td>\n",
       "      <td>I started to order the kindle edition and than...</td>\n",
       "      <td>5.0</td>\n",
       "    </tr>\n",
       "    <tr>\n",
       "      <th>5800</th>\n",
       "      <td>2012-09-27</td>\n",
       "      <td>R22B7K1DUJR6ZN</td>\n",
       "      <td>M. A. Barnett</td>\n",
       "      <td>too expensive</td>\n",
       "      <td>I would love to buy this book but it is too ex...</td>\n",
       "      <td>1.0</td>\n",
       "    </tr>\n",
       "  </tbody>\n",
       "</table>\n",
       "<p>5801 rows × 6 columns</p>\n",
       "</div>"
      ],
      "text/plain": [
       "            date              id               author  \\\n",
       "0     2016-12-11  R3SH1N77GNTD9K                Stefi   \n",
       "1     2016-12-11   RVOEQK3JK4LY2      Amazon Customer   \n",
       "2     2016-12-11   RCU7OTNRDJBOS     Priscilla Seaton   \n",
       "3     2016-12-10  R257OLQTPXYQ82                    J   \n",
       "4     2016-12-10  R1LNKO30KAXCUM  Roberta L. Sherrill   \n",
       "...          ...             ...                  ...   \n",
       "5796  2012-09-27   RT2TE0W92SL67            Tricia K.   \n",
       "5797  2012-09-27  R14ZGYPSP9H0Y7              Pretzel   \n",
       "5798  2012-09-27  R1913ISIDAGQ1A              Prodigy   \n",
       "5799  2012-09-27  R2JY771IW7RI3R           David Katz   \n",
       "5800  2012-09-27  R22B7K1DUJR6ZN        M. A. Barnett   \n",
       "\n",
       "                                                  title  \\\n",
       "0                                            Great read   \n",
       "1                       Great book! Does not disappoint   \n",
       "2     Disturbing in its accurate reflection of human...   \n",
       "3                                                Superb   \n",
       "4                                              One Star   \n",
       "...                                                 ...   \n",
       "5796  Seriously?  $17 bucks for a computer file???  ...   \n",
       "5797                                        A must read   \n",
       "5798                                          I love it   \n",
       "5799                         Kendle price too expensive   \n",
       "5800                                      too expensive   \n",
       "\n",
       "                                                   body  star_rating  \n",
       "0     Very moving story. Great effortless writing wh...          5.0  \n",
       "1     Great book!  Does not disappoint.  Wonderful c...          5.0  \n",
       "2     A very absorbing book. Not at all what I expec...          4.0  \n",
       "3     Lives intertwined, humor,sadness, superior sto...          5.0  \n",
       "4     Disappointing..... finally quit reading it.  S...          1.0  \n",
       "...                                                 ...          ...  \n",
       "5796  Premise sounds dull as dirt.  For $17 for a co...          1.0  \n",
       "5797  The depth of character development and storyli...          5.0  \n",
       "5798  The book was great and I will love to re-read ...          5.0  \n",
       "5799  I started to order the kindle edition and than...          5.0  \n",
       "5800  I would love to buy this book but it is too ex...          1.0  \n",
       "\n",
       "[5801 rows x 6 columns]"
      ]
     },
     "execution_count": 29,
     "metadata": {},
     "output_type": "execute_result"
    }
   ],
   "source": [
    "df"
   ]
  },
  {
   "cell_type": "code",
   "execution_count": 30,
   "metadata": {
    "collapsed": false
   },
   "outputs": [],
   "source": [
    "df.drop(['date', 'id', 'author', 'title'],\n",
    "    axis = 1,\n",
    "    inplace = True)"
   ]
  },
  {
   "cell_type": "code",
   "execution_count": 31,
   "metadata": {
    "collapsed": false
   },
   "outputs": [
    {
     "data": {
      "text/html": [
       "<div>\n",
       "<table border=\"1\" class=\"dataframe\">\n",
       "  <thead>\n",
       "    <tr style=\"text-align: right;\">\n",
       "      <th></th>\n",
       "      <th>body</th>\n",
       "      <th>star_rating</th>\n",
       "    </tr>\n",
       "  </thead>\n",
       "  <tbody>\n",
       "    <tr>\n",
       "      <th>0</th>\n",
       "      <td>Very moving story. Great effortless writing wh...</td>\n",
       "      <td>5.0</td>\n",
       "    </tr>\n",
       "    <tr>\n",
       "      <th>1</th>\n",
       "      <td>Great book!  Does not disappoint.  Wonderful c...</td>\n",
       "      <td>5.0</td>\n",
       "    </tr>\n",
       "    <tr>\n",
       "      <th>2</th>\n",
       "      <td>A very absorbing book. Not at all what I expec...</td>\n",
       "      <td>4.0</td>\n",
       "    </tr>\n",
       "    <tr>\n",
       "      <th>3</th>\n",
       "      <td>Lives intertwined, humor,sadness, superior sto...</td>\n",
       "      <td>5.0</td>\n",
       "    </tr>\n",
       "    <tr>\n",
       "      <th>4</th>\n",
       "      <td>Disappointing..... finally quit reading it.  S...</td>\n",
       "      <td>1.0</td>\n",
       "    </tr>\n",
       "    <tr>\n",
       "      <th>...</th>\n",
       "      <td>...</td>\n",
       "      <td>...</td>\n",
       "    </tr>\n",
       "    <tr>\n",
       "      <th>5796</th>\n",
       "      <td>Premise sounds dull as dirt.  For $17 for a co...</td>\n",
       "      <td>1.0</td>\n",
       "    </tr>\n",
       "    <tr>\n",
       "      <th>5797</th>\n",
       "      <td>The depth of character development and storyli...</td>\n",
       "      <td>5.0</td>\n",
       "    </tr>\n",
       "    <tr>\n",
       "      <th>5798</th>\n",
       "      <td>The book was great and I will love to re-read ...</td>\n",
       "      <td>5.0</td>\n",
       "    </tr>\n",
       "    <tr>\n",
       "      <th>5799</th>\n",
       "      <td>I started to order the kindle edition and than...</td>\n",
       "      <td>5.0</td>\n",
       "    </tr>\n",
       "    <tr>\n",
       "      <th>5800</th>\n",
       "      <td>I would love to buy this book but it is too ex...</td>\n",
       "      <td>1.0</td>\n",
       "    </tr>\n",
       "  </tbody>\n",
       "</table>\n",
       "<p>5801 rows × 2 columns</p>\n",
       "</div>"
      ],
      "text/plain": [
       "                                                   body  star_rating\n",
       "0     Very moving story. Great effortless writing wh...          5.0\n",
       "1     Great book!  Does not disappoint.  Wonderful c...          5.0\n",
       "2     A very absorbing book. Not at all what I expec...          4.0\n",
       "3     Lives intertwined, humor,sadness, superior sto...          5.0\n",
       "4     Disappointing..... finally quit reading it.  S...          1.0\n",
       "...                                                 ...          ...\n",
       "5796  Premise sounds dull as dirt.  For $17 for a co...          1.0\n",
       "5797  The depth of character development and storyli...          5.0\n",
       "5798  The book was great and I will love to re-read ...          5.0\n",
       "5799  I started to order the kindle edition and than...          5.0\n",
       "5800  I would love to buy this book but it is too ex...          1.0\n",
       "\n",
       "[5801 rows x 2 columns]"
      ]
     },
     "execution_count": 31,
     "metadata": {},
     "output_type": "execute_result"
    }
   ],
   "source": [
    "df"
   ]
  },
  {
   "cell_type": "markdown",
   "metadata": {},
   "source": [
    "### `NaN`"
   ]
  },
  {
   "cell_type": "code",
   "execution_count": 33,
   "metadata": {
    "collapsed": false
   },
   "outputs": [
    {
     "name": "stderr",
     "output_type": "stream",
     "text": [
      "/Users/andreasbastian/anaconda2/lib/python2.7/site-packages/ipykernel/__main__.py:2: SettingWithCopyWarning: \n",
      "A value is trying to be set on a copy of a slice from a DataFrame\n",
      "\n",
      "See the caveats in the documentation: http://pandas.pydata.org/pandas-docs/stable/indexing.html#indexing-view-versus-copy\n",
      "  from ipykernel import kernelapp as app\n"
     ]
    },
    {
     "data": {
      "text/plain": [
       "body           0\n",
       "star_rating    0\n",
       "dtype: int64"
      ]
     },
     "execution_count": 33,
     "metadata": {},
     "output_type": "execute_result"
    }
   ],
   "source": [
    "df.isnull()\n",
    "df.dropna(inplace = True)\n",
    "df.isnull().sum()"
   ]
  },
  {
   "cell_type": "code",
   "execution_count": 36,
   "metadata": {
    "collapsed": false
   },
   "outputs": [
    {
     "data": {
      "text/plain": [
       "5.0    1497\n",
       "1.0    1184\n",
       "4.0    1178\n",
       "2.0     972\n",
       "3.0     967\n",
       "Name: star_rating, dtype: int64"
      ]
     },
     "execution_count": 36,
     "metadata": {},
     "output_type": "execute_result"
    }
   ],
   "source": [
    "df.star_rating.value_counts()"
   ]
  },
  {
   "cell_type": "code",
   "execution_count": 35,
   "metadata": {
    "collapsed": false
   },
   "outputs": [
    {
     "ename": "SyntaxError",
     "evalue": "invalid syntax (<ipython-input-35-6267948dd5eb>, line 3)",
     "output_type": "error",
     "traceback": [
      "\u001b[0;36m  File \u001b[0;32m\"<ipython-input-35-6267948dd5eb>\"\u001b[0;36m, line \u001b[0;32m3\u001b[0m\n\u001b[0;31m    _df[[\"star_rating\" < 3] = -1]\u001b[0m\n\u001b[0m                            ^\u001b[0m\n\u001b[0;31mSyntaxError\u001b[0m\u001b[0;31m:\u001b[0m invalid syntax\n"
     ]
    }
   ],
   "source": [
    "def mapStars(_df):\n",
    "    \n",
    "    _df[[\"star_rating\" < 3]]\n",
    "    \n",
    "    return _df"
   ]
  },
  {
   "cell_type": "code",
   "execution_count": 38,
   "metadata": {
    "collapsed": false
   },
   "outputs": [
    {
     "name": "stderr",
     "output_type": "stream",
     "text": [
      "/Users/andreasbastian/anaconda2/lib/python2.7/site-packages/ipykernel/__main__.py:1: SettingWithCopyWarning: \n",
      "A value is trying to be set on a copy of a slice from a DataFrame.\n",
      "Try using .loc[row_indexer,col_indexer] = value instead\n",
      "\n",
      "See the caveats in the documentation: http://pandas.pydata.org/pandas-docs/stable/indexing.html#indexing-view-versus-copy\n",
      "  if __name__ == '__main__':\n"
     ]
    }
   ],
   "source": [
    "df['polarity'] = df.star_rating.map({1:-1, 2:-1, 3:0, 4:1, 5:1}) #dictionary to convert from start value to polarity value:\n",
    "# {<star_val>:<polarity_val>}"
   ]
  },
  {
   "cell_type": "code",
   "execution_count": 39,
   "metadata": {
    "collapsed": false
   },
   "outputs": [
    {
     "data": {
      "text/plain": [
       " 1    2675\n",
       "-1    2156\n",
       " 0     967\n",
       "Name: polarity, dtype: int64"
      ]
     },
     "execution_count": 39,
     "metadata": {},
     "output_type": "execute_result"
    }
   ],
   "source": [
    "df.polarity.value_counts()"
   ]
  },
  {
   "cell_type": "markdown",
   "metadata": {},
   "source": [
    "### Positive, neutral, and negatives reviews"
   ]
  },
  {
   "cell_type": "markdown",
   "metadata": {},
   "source": [
    "several ways to address the class imbalance problem:\n",
    "- upsampling:  can just duplicate values for \"0\" and \"-1\" to get 2675 samples in each to match size of \"1\" \n",
    "- downsampling:  can randomly subsample from \"-1\" and \"1\" to get 967 values to match size of \"0\""
   ]
  },
  {
   "cell_type": "code",
   "execution_count": 55,
   "metadata": {
    "collapsed": false
   },
   "outputs": [],
   "source": [
    "pos = df[df.polarity == -1]"
   ]
  },
  {
   "cell_type": "code",
   "execution_count": 56,
   "metadata": {
    "collapsed": true
   },
   "outputs": [],
   "source": [
    "ns = df.polarity.value_counts()"
   ]
  },
  {
   "cell_type": "code",
   "execution_count": 57,
   "metadata": {
    "collapsed": false
   },
   "outputs": [
    {
     "data": {
      "text/plain": [
       "967"
      ]
     },
     "execution_count": 57,
     "metadata": {},
     "output_type": "execute_result"
    }
   ],
   "source": [
    "ns.min()"
   ]
  },
  {
   "cell_type": "code",
   "execution_count": 60,
   "metadata": {
    "collapsed": false
   },
   "outputs": [
    {
     "name": "stderr",
     "output_type": "stream",
     "text": [
      "/Users/andreasbastian/anaconda2/lib/python2.7/site-packages/ipykernel/__main__.py:4: SettingWithCopyWarning: \n",
      "A value is trying to be set on a copy of a slice from a DataFrame\n",
      "\n",
      "See the caveats in the documentation: http://pandas.pydata.org/pandas-docs/stable/indexing.html#indexing-view-versus-copy\n"
     ]
    }
   ],
   "source": [
    "#downsampling\n",
    "for polarity in [-1, 0, 1]:\n",
    "    n = ns[polarity] - ns.min()\n",
    "    index = df[df.polarity == polarity].sample(n = n, random_state = 0).index\n",
    "    df.drop(index, inplace = True)"
   ]
  },
  {
   "cell_type": "code",
   "execution_count": 61,
   "metadata": {
    "collapsed": false
   },
   "outputs": [
    {
     "data": {
      "text/plain": [
       " 1    967\n",
       "-1    967\n",
       " 0    967\n",
       "Name: polarity, dtype: int64"
      ]
     },
     "execution_count": 61,
     "metadata": {},
     "output_type": "execute_result"
    }
   ],
   "source": [
    "df.polarity.value_counts()"
   ]
  },
  {
   "cell_type": "markdown",
   "metadata": {},
   "source": [
    "### Feature matrix and response vector"
   ]
  },
  {
   "cell_type": "code",
   "execution_count": 62,
   "metadata": {
    "collapsed": false
   },
   "outputs": [],
   "source": [
    "X = df.body"
   ]
  },
  {
   "cell_type": "code",
   "execution_count": 68,
   "metadata": {
    "collapsed": false
   },
   "outputs": [],
   "source": [
    "c = df.polarity"
   ]
  },
  {
   "cell_type": "code",
   "execution_count": null,
   "metadata": {
    "collapsed": true
   },
   "outputs": [],
   "source": []
  },
  {
   "cell_type": "markdown",
   "metadata": {},
   "source": [
    "### Train/test sets"
   ]
  },
  {
   "cell_type": "code",
   "execution_count": 69,
   "metadata": {
    "collapsed": false
   },
   "outputs": [],
   "source": [
    "train_X, test_X, train_c, test_c = cross_validation.train_test_split(X, c, stratify = c, train_size = .6, random_state = 0)"
   ]
  },
  {
   "cell_type": "markdown",
   "metadata": {
    "collapsed": true
   },
   "source": [
    "### TF-IDF and `TfidfVectorizer`"
   ]
  },
  {
   "cell_type": "code",
   "execution_count": null,
   "metadata": {
    "collapsed": false
   },
   "outputs": [],
   "source": [
    "# first pass, without stemming\n",
    "# vectorizer = feature_extraction.text.TfidfVectorizer(stop_words = 'english')"
   ]
  },
  {
   "cell_type": "code",
   "execution_count": 80,
   "metadata": {
    "collapsed": false
   },
   "outputs": [],
   "source": [
    "# Let's try with stemming:\n",
    "'''\n",
    "class CustomTokenizer(object):\n",
    "    def __init__(self):\n",
    "        self.stemmer = stem.porter.PorterStemmer()\n",
    "        \n",
    "    def __call__(self, document):\n",
    "        tokens = tokenize_text(document)\n",
    "        tokens = Stemmer.stem_tokens(tokens)\n",
    "        return tokens\n",
    "    \n",
    "vectorizer = feature_extraction.text.TfidfVectorizer(token = CustomTokenizer())\n",
    "'''\n",
    "\n",
    "class CustomTokenizer(object):\n",
    "    def __init__(self):\n",
    "        self.stemmer = stem.porter.PorterStemmer()\n",
    "\n",
    "    def __call__(self, document):\n",
    "        tokens = tokenize_text(document)\n",
    "        tokens = Stemmer.stem_tokens(tokens)\n",
    "        return tokens\n",
    "\n",
    "# not using n-grams\n",
    "# vectorizer = feature_extraction.text.TfidfVectorizer(tokenizer = CustomTokenizer())\n",
    "\n",
    "# using n-grams\n",
    "vectorizer = feature_extraction.text.TfidfVectorizer(tokenizer = CustomTokenizer(), ngram_range = (1, 3), min_df = 3)\n",
    "# last argument is instruction to discard any n0grams that occurs fewer than three times--> min_df = 3\n"
   ]
  },
  {
   "cell_type": "code",
   "execution_count": null,
   "metadata": {
    "collapsed": true
   },
   "outputs": [],
   "source": []
  },
  {
   "cell_type": "code",
   "execution_count": 81,
   "metadata": {
    "collapsed": false
   },
   "outputs": [
    {
     "data": {
      "text/plain": [
       "TfidfVectorizer(analyzer=u'word', binary=False, decode_error=u'strict',\n",
       "        dtype=<type 'numpy.int64'>, encoding=u'utf-8', input=u'content',\n",
       "        lowercase=True, max_df=1.0, max_features=None, min_df=3,\n",
       "        ngram_range=(1, 3), norm=u'l2', preprocessor=None, smooth_idf=True,\n",
       "        stop_words=None, strip_accents=None, sublinear_tf=False,\n",
       "        token_pattern=u'(?u)\\\\b\\\\w\\\\w+\\\\b',\n",
       "        tokenizer=<__main__.CustomTokenizer object at 0x117315650>,\n",
       "        use_idf=True, vocabulary=None)"
      ]
     },
     "execution_count": 81,
     "metadata": {},
     "output_type": "execute_result"
    }
   ],
   "source": [
    "vectorizer.fit(train_X)"
   ]
  },
  {
   "cell_type": "markdown",
   "metadata": {},
   "source": [
    "### Bag-of-words"
   ]
  },
  {
   "cell_type": "code",
   "execution_count": 82,
   "metadata": {
    "collapsed": false
   },
   "outputs": [
    {
     "data": {
      "text/plain": [
       "[u'1',\n",
       " u'1 star',\n",
       " u'10',\n",
       " u'10 book',\n",
       " u'100',\n",
       " u'100 page',\n",
       " u'12',\n",
       " u'13',\n",
       " u'14',\n",
       " u'15',\n",
       " u'16',\n",
       " u'1799',\n",
       " u'18',\n",
       " u'19th',\n",
       " u'19th centuri',\n",
       " u'2',\n",
       " u'20',\n",
       " u'200',\n",
       " u'200 page',\n",
       " u'25',\n",
       " u'3',\n",
       " u'3 star',\n",
       " u'30',\n",
       " u'300',\n",
       " u'35',\n",
       " u'35 star',\n",
       " u'4',\n",
       " u'40',\n",
       " u'400',\n",
       " u'400 page',\n",
       " u'5',\n",
       " u'50',\n",
       " u'50 page',\n",
       " u'500',\n",
       " u'500 page',\n",
       " u'503',\n",
       " u'503 page',\n",
       " u'6',\n",
       " u'60',\n",
       " u'7',\n",
       " u'8',\n",
       " u'80',\n",
       " u'abandon',\n",
       " u'abil',\n",
       " u'abl',\n",
       " u'abl get',\n",
       " u'abl read',\n",
       " u'abrupt',\n",
       " u'abruptli',\n",
       " u'absenc',\n",
       " u'absolut',\n",
       " u'absolut love',\n",
       " u'absolut noth',\n",
       " u'absorb',\n",
       " u'abus',\n",
       " u'abus drug',\n",
       " u'accent',\n",
       " u'accept',\n",
       " u'accomplish',\n",
       " u'account',\n",
       " u'accur',\n",
       " u'achiev',\n",
       " u'acquaint',\n",
       " u'across',\n",
       " u'act',\n",
       " u'action',\n",
       " u'action one',\n",
       " u'actionpack',\n",
       " u'actor',\n",
       " u'actual',\n",
       " u'ad',\n",
       " u'add',\n",
       " u'addict',\n",
       " u'addit',\n",
       " u'adjust',\n",
       " u'admir',\n",
       " u'admit',\n",
       " u'admit nt',\n",
       " u'admit read',\n",
       " u'adolesc',\n",
       " u'adolesc charact',\n",
       " u'ador',\n",
       " u'ador harri',\n",
       " u'ador harri potter',\n",
       " u'adult',\n",
       " u'adult adult',\n",
       " u'adult audienc',\n",
       " u'adult book',\n",
       " u'adult book adult',\n",
       " u'adult charact',\n",
       " u'adult children',\n",
       " u'adult content',\n",
       " u'adult expect',\n",
       " u'adult fiction',\n",
       " u'adult like',\n",
       " u'adult literatur',\n",
       " u'adult novel',\n",
       " u'adult novel jk',\n",
       " u'adult nt',\n",
       " u'adult read',\n",
       " u'adult theme',\n",
       " u'adventur',\n",
       " u'advis',\n",
       " u'affect',\n",
       " u'affect live',\n",
       " u'afraid',\n",
       " u'age',\n",
       " u'age group',\n",
       " u'ago',\n",
       " u'agre',\n",
       " u'agre review',\n",
       " u'aim',\n",
       " u'air',\n",
       " u'akin',\n",
       " u'alik',\n",
       " u'aliv',\n",
       " u'allow',\n",
       " u'allow reader',\n",
       " u'almost',\n",
       " u'almost half',\n",
       " u'alon',\n",
       " u'along',\n",
       " u'along harri',\n",
       " u'along harri potter',\n",
       " u'alot',\n",
       " u'alot charact',\n",
       " u'alreadi',\n",
       " u'also',\n",
       " u'also nt',\n",
       " u'also think',\n",
       " u'also thought',\n",
       " u'although',\n",
       " u'alway',\n",
       " u'alway finish',\n",
       " u'amaz',\n",
       " u'amaz author',\n",
       " u'amaz writer',\n",
       " u'amazingli',\n",
       " u'amazon',\n",
       " u'amazon review',\n",
       " u'ambiti',\n",
       " u'american',\n",
       " u'american reader',\n",
       " u'among',\n",
       " u'among charact',\n",
       " u'amount',\n",
       " u'amount charact',\n",
       " u'amus',\n",
       " u'andrew',\n",
       " u'angel',\n",
       " u'anger',\n",
       " u'angl',\n",
       " u'angri',\n",
       " u'angst',\n",
       " u'annoy',\n",
       " u'anoth',\n",
       " u'anoth adult',\n",
       " u'anoth book',\n",
       " u'anoth harri',\n",
       " u'anoth harri potter',\n",
       " u'anoth novel',\n",
       " u'anoth one',\n",
       " u'anoth rowl',\n",
       " u'anticip',\n",
       " u'anxiou',\n",
       " u'anxiou read',\n",
       " u'anybodi',\n",
       " u'anymor',\n",
       " u'anyon',\n",
       " u'anyon age',\n",
       " u'anyon read',\n",
       " u'anyth',\n",
       " u'anyth harri',\n",
       " u'anyth jk',\n",
       " u'anyth jk rowl',\n",
       " u'anyth like',\n",
       " u'anyth like harri',\n",
       " u'anyway',\n",
       " u'anywher',\n",
       " u'apart',\n",
       " u'apolog',\n",
       " u'appal',\n",
       " u'appar',\n",
       " u'appeal',\n",
       " u'appeal reader',\n",
       " u'appear',\n",
       " u'appli',\n",
       " u'appreci',\n",
       " u'approach',\n",
       " u'approach book',\n",
       " u'appropri',\n",
       " u'area',\n",
       " u'around',\n",
       " u'around small',\n",
       " u'around town',\n",
       " u'around us',\n",
       " u'arriv',\n",
       " u'art',\n",
       " u'asid',\n",
       " u'ask',\n",
       " u'asleep',\n",
       " u'aspect',\n",
       " u'assess',\n",
       " u'assum',\n",
       " u'assumpt',\n",
       " u'attach',\n",
       " u'attempt',\n",
       " u'attempt adult',\n",
       " u'attempt write',\n",
       " u'attent',\n",
       " u'attitud',\n",
       " u'audienc',\n",
       " u'audio',\n",
       " u'audio version',\n",
       " u'audiobook',\n",
       " u'authent',\n",
       " u'author',\n",
       " u'author could',\n",
       " u'author disappoint',\n",
       " u'author harri',\n",
       " u'author harri potter',\n",
       " u'author jk',\n",
       " u'author jk rowl',\n",
       " u'author nt',\n",
       " u'author read',\n",
       " u'author take',\n",
       " u'author tri',\n",
       " u'author use',\n",
       " u'author way',\n",
       " u'author would',\n",
       " u'author write',\n",
       " u'author written',\n",
       " u'avail',\n",
       " u'averag',\n",
       " u'avid',\n",
       " u'avid harri',\n",
       " u'avid harri potter',\n",
       " u'avid reader',\n",
       " u'avoid',\n",
       " u'aw',\n",
       " u'await',\n",
       " u'awar',\n",
       " u'away',\n",
       " u'awesom',\n",
       " u'awhil',\n",
       " u'awhil get',\n",
       " u'awhil get book',\n",
       " u'back',\n",
       " u'back book',\n",
       " u'back forth',\n",
       " u'back forth charact',\n",
       " u'back stori',\n",
       " u'background',\n",
       " u'bad',\n",
       " u'bad book',\n",
       " u'bad languag',\n",
       " u'bad review',\n",
       " u'bad thing',\n",
       " u'badli',\n",
       " u'balanc',\n",
       " u'banal',\n",
       " u'bare',\n",
       " u'bare made',\n",
       " u'barri',\n",
       " u'barri fairbroth',\n",
       " u'barri fairbroth die',\n",
       " u'barri fairweath',\n",
       " u'base',\n",
       " u'basi',\n",
       " u'basic',\n",
       " u'bear',\n",
       " u'beauti',\n",
       " u'beauti written',\n",
       " u'becam',\n",
       " u'becam interest',\n",
       " u'becom',\n",
       " u'becom interest',\n",
       " u'becom movi',\n",
       " u'began',\n",
       " u'begin',\n",
       " u'begin book',\n",
       " u'begin stori',\n",
       " u'behav',\n",
       " u'behavior',\n",
       " u'behaviour',\n",
       " u'behind',\n",
       " u'behind close',\n",
       " u'behind close door',\n",
       " u'belief',\n",
       " u'believ',\n",
       " u'believ author',\n",
       " u'believ book',\n",
       " u'believ charact',\n",
       " u'believ jk',\n",
       " u'believ stori',\n",
       " u'belong',\n",
       " u'belov',\n",
       " u'beneath',\n",
       " u'beneath surfac',\n",
       " u'best',\n",
       " u'best book',\n",
       " u'best book ever',\n",
       " u'best part',\n",
       " u'best part book',\n",
       " u'best stori',\n",
       " u'better',\n",
       " u'better book',\n",
       " u'better end',\n",
       " u'better stori',\n",
       " u'better written',\n",
       " u'beyond',\n",
       " u'big',\n",
       " u'big disappoint',\n",
       " u'big fan',\n",
       " u'biggest',\n",
       " u'bigotri',\n",
       " u'binchi',\n",
       " u'bind',\n",
       " u'birthday',\n",
       " u'bit',\n",
       " u'bit confus',\n",
       " u'bit depress',\n",
       " u'bit disappoint',\n",
       " u'bit hard',\n",
       " u'bit much',\n",
       " u'bit slow',\n",
       " u'bit tediou',\n",
       " u'bitter',\n",
       " u'black',\n",
       " u'black white',\n",
       " u'bland',\n",
       " u'bleak',\n",
       " u'blend',\n",
       " u'board',\n",
       " u'bog',\n",
       " u'bomb',\n",
       " u'book',\n",
       " u'book 500',\n",
       " u'book 500 page',\n",
       " u'book absolut',\n",
       " u'book adult',\n",
       " u'book almost',\n",
       " u'book although',\n",
       " u'book amaz',\n",
       " u'book anyon',\n",
       " u'book anyth',\n",
       " u'book attempt',\n",
       " u'book author',\n",
       " u'book aw',\n",
       " u'book away',\n",
       " u'book bad',\n",
       " u'book base',\n",
       " u'book becom',\n",
       " u'book best',\n",
       " u'book better',\n",
       " u'book big',\n",
       " u'book big fan',\n",
       " u'book bit',\n",
       " u'book book',\n",
       " u'book bore',\n",
       " u'book bought',\n",
       " u'book brilliant',\n",
       " u'book ca',\n",
       " u'book ca nt',\n",
       " u'book came',\n",
       " u'book casual',\n",
       " u'book casual vacanc',\n",
       " u'book cd',\n",
       " u'book charact',\n",
       " u'book children',\n",
       " u'book club',\n",
       " u'book club choic',\n",
       " u'book come',\n",
       " u'book complet',\n",
       " u'book confus',\n",
       " u'book contain',\n",
       " u'book could',\n",
       " u'book could nt',\n",
       " u'book cours',\n",
       " u'book dark',\n",
       " u'book day',\n",
       " u'book definit',\n",
       " u'book depress',\n",
       " u'book differ',\n",
       " u'book difficult',\n",
       " u'book difficult get',\n",
       " u'book disappoint',\n",
       " u'book easi',\n",
       " u'book end',\n",
       " u'book english',\n",
       " u'book enjoy',\n",
       " u'book even',\n",
       " u'book ever',\n",
       " u'book ever read',\n",
       " u'book everi',\n",
       " u'book excel',\n",
       " u'book except',\n",
       " u'book excit',\n",
       " u'book expect',\n",
       " u'book extrem',\n",
       " u'book fall',\n",
       " u'book far',\n",
       " u'book feel',\n",
       " u'book felt',\n",
       " u'book felt like',\n",
       " u'book fill',\n",
       " u'book final',\n",
       " u'book find',\n",
       " u'book finish',\n",
       " u'book first',\n",
       " u'book found',\n",
       " u'book full',\n",
       " u'book gift',\n",
       " u'book glad',\n",
       " u'book go',\n",
       " u'book good',\n",
       " u'book got',\n",
       " u'book gotten',\n",
       " u'book graphic',\n",
       " u'book great',\n",
       " u'book guess',\n",
       " u'book guess expect',\n",
       " u'book hard',\n",
       " u'book hard follow',\n",
       " u'book hard get',\n",
       " u'book harri',\n",
       " u'book harri potter',\n",
       " u'book heart',\n",
       " u'book high',\n",
       " u'book hope',\n",
       " u'book howev',\n",
       " u'book hp',\n",
       " u'book hp seri',\n",
       " u'book huge',\n",
       " u'book instead',\n",
       " u'book interest',\n",
       " u'book j',\n",
       " u'book j k',\n",
       " u'book jk',\n",
       " u'book jk rowl',\n",
       " u'book jkr',\n",
       " u'book keep',\n",
       " u'book kept',\n",
       " u'book kindl',\n",
       " u'book knew',\n",
       " u'book know',\n",
       " u'book lack',\n",
       " u'book languag',\n",
       " u'book least',\n",
       " u'book leav',\n",
       " u'book left',\n",
       " u'book life',\n",
       " u'book like',\n",
       " u'book like harri',\n",
       " u'book littl',\n",
       " u'book long',\n",
       " u'book look',\n",
       " u'book look forward',\n",
       " u'book lot',\n",
       " u'book lot charact',\n",
       " u'book love',\n",
       " u'book love harri',\n",
       " u'book made',\n",
       " u'book make',\n",
       " u'book mani',\n",
       " u'book mani charact',\n",
       " u'book matter',\n",
       " u'book may',\n",
       " u'book mayb',\n",
       " u'book mostli',\n",
       " u'book move',\n",
       " u'book movi',\n",
       " u'book ms',\n",
       " u'book ms rowl',\n",
       " u'book much',\n",
       " u'book need',\n",
       " u'book never',\n",
       " u'book noth',\n",
       " u'book noth like',\n",
       " u'book nt',\n",
       " u'book nt even',\n",
       " u'book nt grab',\n",
       " u'book nt like',\n",
       " u'book nt read',\n",
       " u'book often',\n",
       " u'book ok',\n",
       " u'book okay',\n",
       " u'book one',\n",
       " u'book one charact',\n",
       " u'book one star',\n",
       " u'book outsid',\n",
       " u'book perhap',\n",
       " u'book plot',\n",
       " u'book probabl',\n",
       " u'book provid',\n",
       " u'book publish',\n",
       " u'book put',\n",
       " u'book quit',\n",
       " u'book rather',\n",
       " u'book read',\n",
       " u'book read first',\n",
       " u'book read harri',\n",
       " u'book read like',\n",
       " u'book real',\n",
       " u'book realli',\n",
       " u'book recommend',\n",
       " u'book review',\n",
       " u'book rowl',\n",
       " u'book sad',\n",
       " u'book seem',\n",
       " u'book seri',\n",
       " u'book set',\n",
       " u'book sever',\n",
       " u'book sever time',\n",
       " u'book show',\n",
       " u'book simpli',\n",
       " u'book sinc',\n",
       " u'book slow',\n",
       " u'book slow start',\n",
       " u'book someth',\n",
       " u'book somewhat',\n",
       " u'book sorri',\n",
       " u'book stand',\n",
       " u'book start',\n",
       " u'book stay',\n",
       " u'book still',\n",
       " u'book stori',\n",
       " u'book sure',\n",
       " u'book take',\n",
       " u'book think',\n",
       " u'book though',\n",
       " u'book thought',\n",
       " u'book thought would',\n",
       " u'book time',\n",
       " u'book told',\n",
       " u'book took',\n",
       " u'book total',\n",
       " u'book tri',\n",
       " u'book truli',\n",
       " u'book unfortun',\n",
       " u'book use',\n",
       " u'book usual',\n",
       " u'book wait',\n",
       " u'book want',\n",
       " u'book way',\n",
       " u'book well',\n",
       " u'book well develop',\n",
       " u'book well written',\n",
       " u'book without',\n",
       " u'book worth',\n",
       " u'book would',\n",
       " u'book would recommend',\n",
       " u'book write',\n",
       " u'book written',\n",
       " u'book written adult',\n",
       " u'book yet',\n",
       " u'book young',\n",
       " u'bore',\n",
       " u'bore book',\n",
       " u'bore bore',\n",
       " u'bore bore bore',\n",
       " u'bore charact',\n",
       " u'bore could',\n",
       " u'bore could nt',\n",
       " u'bore nt',\n",
       " u'bore peopl',\n",
       " u'bore read',\n",
       " u'bore stori',\n",
       " u'boredom',\n",
       " u'borrow',\n",
       " u'bother',\n",
       " u'bought',\n",
       " u'bought book',\n",
       " u'bought casual',\n",
       " u'bought casual vacanc',\n",
       " u'bought love',\n",
       " u'boy',\n",
       " u'brain',\n",
       " u'branch',\n",
       " u'bravo',\n",
       " u'break',\n",
       " u'breath',\n",
       " u'bright',\n",
       " u'brilliant',\n",
       " u'brilliant writer',\n",
       " u'brilliantli',\n",
       " u'bring',\n",
       " u'brit',\n",
       " u'britain',\n",
       " u'british',\n",
       " u'british villag',\n",
       " u'brother',\n",
       " u'brought',\n",
       " u'brutal',\n",
       " u'buck',\n",
       " u'build',\n",
       " u'build charact',\n",
       " u'bulk',\n",
       " u'bulli',\n",
       " u'bunch',\n",
       " u'busi',\n",
       " u'buy',\n",
       " u'buy anoth',\n",
       " u'buy book',\n",
       " u'ca',\n",
       " u'ca nt',\n",
       " u'ca nt believ',\n",
       " u'ca nt even',\n",
       " u'ca nt get',\n",
       " u'ca nt help',\n",
       " u'ca nt put',\n",
       " u'ca nt say',\n",
       " u'ca nt seem',\n",
       " u'ca nt wait',\n",
       " u'call',\n",
       " u'call book',\n",
       " u'came',\n",
       " u'cant',\n",
       " u'capabl',\n",
       " u'captiv',\n",
       " u'captur',\n",
       " u'captur attent',\n",
       " u'care',\n",
       " u'care book',\n",
       " u'care charact',\n",
       " u'care happen',\n",
       " u'care much',\n",
       " u'career',\n",
       " u'caricatur',\n",
       " u'carri',\n",
       " u'case',\n",
       " u'cast',\n",
       " u'cast charact',\n",
       " u'casual',\n",
       " u'casual vacanc',\n",
       " u'casual vacanc adult',\n",
       " u'casual vacanc charact',\n",
       " u'casual vacanc council',\n",
       " u'casual vacanc disappoint',\n",
       " u'casual vacanc enjoy',\n",
       " u'casual vacanc feel',\n",
       " u'casual vacanc first',\n",
       " u'casual vacanc great',\n",
       " u'casual vacanc howev',\n",
       " u'casual vacanc jk',\n",
       " u'casual vacanc nt',\n",
       " u'casual vacanc read',\n",
       " u'casual vacanc rowl',\n",
       " u'casual vacanc stori',\n",
       " u'casual vacanc took',\n",
       " u'casual vacanc well',\n",
       " u'catch',\n",
       " u'caught',\n",
       " u'caus',\n",
       " u'cd',\n",
       " u'center',\n",
       " u'center around',\n",
       " u'central',\n",
       " u'central charact',\n",
       " u'centuri',\n",
       " u'certain',\n",
       " u'certainli',\n",
       " u'certainli nt',\n",
       " u'challeng',\n",
       " u'chanc',\n",
       " u'chang',\n",
       " u'chang genr',\n",
       " u'chapter',\n",
       " u'chapter book',\n",
       " u'chapter like',\n",
       " u'charact',\n",
       " u'charact almost',\n",
       " u'charact also',\n",
       " u'charact author',\n",
       " u'charact becam',\n",
       " u'charact begin',\n",
       " u'charact believ',\n",
       " u'charact better',\n",
       " u'charact book',\n",
       " u'charact bore',\n",
       " u'charact care',\n",
       " u'charact casual',\n",
       " u'charact casual vacanc',\n",
       " u'charact charact',\n",
       " u'charact come',\n",
       " u'charact complet',\n",
       " u'charact complex',\n",
       " u'charact confus',\n",
       " u'charact could',\n",
       " u'charact depth',\n",
       " u'charact desper',\n",
       " u'charact develop',\n",
       " u'charact develop excel',\n",
       " u'charact develop harri',\n",
       " u'charact die',\n",
       " u'charact difficult',\n",
       " u'charact distinct',\n",
       " u'charact end',\n",
       " u'charact engag',\n",
       " u'charact enough',\n",
       " u'charact even',\n",
       " u'charact event',\n",
       " u'charact feel',\n",
       " u'charact felt',\n",
       " u'charact first',\n",
       " u'charact flaw',\n",
       " u'charact follow',\n",
       " u'charact found',\n",
       " u'charact fulli',\n",
       " u'charact good',\n",
       " u'charact great',\n",
       " u'charact happen',\n",
       " u'charact hard',\n",
       " u'charact hard follow',\n",
       " u'charact head',\n",
       " u'charact howev',\n",
       " u'charact individu',\n",
       " u'charact interest',\n",
       " u'charact intertwin',\n",
       " u'charact introduc',\n",
       " u'charact keep',\n",
       " u'charact keep track',\n",
       " u'charact life',\n",
       " u'charact likabl',\n",
       " u'charact like',\n",
       " u'charact likeabl',\n",
       " u'charact list',\n",
       " u'charact littl',\n",
       " u'charact littl redeem',\n",
       " u'charact live',\n",
       " u'charact long',\n",
       " u'charact love',\n",
       " u'charact made',\n",
       " u'charact make',\n",
       " u'charact mani',\n",
       " u'charact may',\n",
       " u'charact much',\n",
       " u'charact never',\n",
       " u'charact none',\n",
       " u'charact nt',\n",
       " u'charact one',\n",
       " u'charact overal',\n",
       " u'charact particularli',\n",
       " u'charact peopl',\n",
       " u'charact person',\n",
       " u'charact plot',\n",
       " u'charact predict',\n",
       " u'charact present',\n",
       " u'charact pretti',\n",
       " u'charact read',\n",
       " u'charact reader',\n",
       " u'charact real',\n",
       " u'charact realli',\n",
       " u'charact redeem',\n",
       " u'charact redeem qualiti',\n",
       " u'charact relat',\n",
       " u'charact relationship',\n",
       " u'charact rich',\n",
       " u'charact rowl',\n",
       " u'charact seem',\n",
       " u'charact similar',\n",
       " u'charact small',\n",
       " u'charact stori',\n",
       " u'charact stori line',\n",
       " u'charact straight',\n",
       " u'charact studi',\n",
       " u'charact sympathet',\n",
       " u'charact take',\n",
       " u'charact think',\n",
       " u'charact throughout',\n",
       " u'charact took',\n",
       " u'charact tri',\n",
       " u'charact tri keep',\n",
       " u'charact ultim',\n",
       " u'charact unlik',\n",
       " u'charact vividli',\n",
       " u'charact way',\n",
       " u'charact well',\n",
       " u'charact well develop',\n",
       " u'charact well written',\n",
       " u'charact would',\n",
       " u'charact would recommend',\n",
       " u'character',\n",
       " u'characterist',\n",
       " u'charm',\n",
       " u'cheap',\n",
       " u'cheat',\n",
       " u'check',\n",
       " u'cheer',\n",
       " u'child',\n",
       " u'child abus',\n",
       " u'childhood',\n",
       " u'childish',\n",
       " u'children',\n",
       " u'children author',\n",
       " u'children book',\n",
       " u'choic',\n",
       " u'choos',\n",
       " u'chore',\n",
       " u'chose',\n",
       " u'chose book',\n",
       " u'chosen',\n",
       " u'christma',\n",
       " u'circl',\n",
       " u'circumst',\n",
       " u'citi',\n",
       " u'citi council',\n",
       " u'citizen',\n",
       " u'citizen pagford',\n",
       " u'class',\n",
       " u'classic',\n",
       " u'clear',\n",
       " u'clear book',\n",
       " u'clearli',\n",
       " u'clever',\n",
       " u'clich',\n",
       " u'climax',\n",
       " u'close',\n",
       " u'close door',\n",
       " u'closest',\n",
       " u'club',\n",
       " u'club choic',\n",
       " u'cold',\n",
       " u'collect',\n",
       " u'combin',\n",
       " u'come',\n",
       " u'come aliv',\n",
       " u'come back',\n",
       " u'come book',\n",
       " u'come life',\n",
       " u'come togeth',\n",
       " u'come way',\n",
       " u'comedi',\n",
       " u'comfort',\n",
       " u'comic',\n",
       " u'comment',\n",
       " u'commentari',\n",
       " u'commit',\n",
       " u'common',\n",
       " u'commun',\n",
       " u'commun pagford',\n",
       " u'compar',\n",
       " u'compar book',\n",
       " u'compar harri',\n",
       " u'compar harri potter',\n",
       " u'comparison',\n",
       " u'compass',\n",
       " u'compass other',\n",
       " u'compassion',\n",
       " u'compel',\n",
       " u'compel read',\n",
       " u'compel stori',\n",
       " u'complain',\n",
       " u'complaint',\n",
       " u'complaint book',\n",
       " u'complet',\n",
       " u'complet book',\n",
       " u'complet differ',\n",
       " u'complex',\n",
       " u'complex plot',\n",
       " u'complex stori',\n",
       " u'complic',\n",
       " u'concept',\n",
       " u'concern',\n",
       " u'concis',\n",
       " u'conclus',\n",
       " u'conclus end',\n",
       " u'condit',\n",
       " u'confid',\n",
       " u'conflict',\n",
       " u'confus',\n",
       " u'confus charact',\n",
       " u'connect',\n",
       " u'connect charact',\n",
       " u'consequ',\n",
       " u'conserv',\n",
       " u'consid',\n",
       " u'consist',\n",
       " u'constantli',\n",
       " u'contain',\n",
       " u'contain mani',\n",
       " u'contemporari',\n",
       " u'content',\n",
       " u'continu',\n",
       " u'continu read',\n",
       " u'continu write',\n",
       " u'contrast',\n",
       " u'control',\n",
       " u'convey',\n",
       " u'convinc',\n",
       " u'convolut',\n",
       " u'copi',\n",
       " u'core',\n",
       " u'correct',\n",
       " u'cost',\n",
       " u'could',\n",
       " u'could come',\n",
       " u'could done',\n",
       " u'could easili',\n",
       " u'could enjoy',\n",
       " u'could even',\n",
       " u'could find',\n",
       " u'could finish',\n",
       " u'could get',\n",
       " u'could get book',\n",
       " u'could get past',\n",
       " u'could go',\n",
       " u'could hardli',\n",
       " u'could hold',\n",
       " u'could hold interest',\n",
       " u'could never',\n",
       " u'could nt',\n",
       " u'could nt even',\n",
       " u'could nt get',\n",
       " u'could nt put',\n",
       " u'could nt wait',\n",
       " u'could possibl',\n",
       " u'could put',\n",
       " u'could see',\n",
       " u'could wait',\n",
       " u'could write',\n",
       " u'council',\n",
       " u'council member',\n",
       " u'council seat',\n",
       " u'councillor',\n",
       " u'councilman',\n",
       " u'count',\n",
       " u'countri',\n",
       " u'countri town',\n",
       " u'countrysid',\n",
       " u'coupl',\n",
       " u'coupl chapter',\n",
       " u'coupl hundr',\n",
       " u'coupl hundr page',\n",
       " u'coupl time',\n",
       " u'courag',\n",
       " u'cours',\n",
       " u'cover',\n",
       " u'cozi',\n",
       " u'craft',\n",
       " u'creat',\n",
       " u'creat casual',\n",
       " u'creat casual vacanc',\n",
       " u'creat charact',\n",
       " u'creat world',\n",
       " u'creativ',\n",
       " u'cri',\n",
       " u'cri end',\n",
       " u'critic',\n",
       " u'crude',\n",
       " u'crude languag',\n",
       " u'cruel',\n",
       " u'cruelti',\n",
       " u'cuckoo',\n",
       " u'cuckoo call',\n",
       " u'cup',\n",
       " u'cup tea',\n",
       " u'curios',\n",
       " u'curiou',\n",
       " u'curiou see',\n",
       " u'current',\n",
       " u'curs',\n",
       " u'cuss',\n",
       " u'cut',\n",
       " u'cynic',\n",
       " u'daili',\n",
       " u'danger',\n",
       " u'dare',\n",
       " u'dark',\n",
       " u'dark charact',\n",
       " u'dark depress',\n",
       " u'dark disturb',\n",
       " u'darker',\n",
       " u'date',\n",
       " u'daughter',\n",
       " u'daughter love',\n",
       " u'day',\n",
       " u'day day',\n",
       " u'day finish',\n",
       " u'dead',\n",
       " u'dead guy',\n",
       " u'deal',\n",
       " u'dealt',\n",
       " u'death',\n",
       " u'death barri',\n",
       " u'death barri fairbroth',\n",
       " u'death one',\n",
       " u'death parish',\n",
       " u'death parish councillor',\n",
       " u'death small',\n",
       " u'debat',\n",
       " u'deceas',\n",
       " u'decent',\n",
       " u'decid',\n",
       " u'decid give',\n",
       " u'decid read',\n",
       " u'decis',\n",
       " u'deep',\n",
       " u'deeper',\n",
       " u'deepli',\n",
       " ...]"
      ]
     },
     "execution_count": 82,
     "metadata": {},
     "output_type": "execute_result"
    }
   ],
   "source": [
    "vectorizer.get_feature_names()"
   ]
  },
  {
   "cell_type": "markdown",
   "metadata": {},
   "source": [
    "### Transformed feature matrix `X`"
   ]
  },
  {
   "cell_type": "code",
   "execution_count": 83,
   "metadata": {
    "collapsed": false
   },
   "outputs": [],
   "source": [
    "# TODO\n",
    "train_X = vectorizer.transform(train_X)\n",
    "test_X = vectorizer.transform(test_X)"
   ]
  },
  {
   "cell_type": "code",
   "execution_count": null,
   "metadata": {
    "collapsed": true
   },
   "outputs": [],
   "source": []
  },
  {
   "cell_type": "markdown",
   "metadata": {},
   "source": [
    "### Machine Learning Modeling"
   ]
  },
  {
   "cell_type": "markdown",
   "metadata": {},
   "source": [
    "> # TODO..."
   ]
  },
  {
   "cell_type": "markdown",
   "metadata": {},
   "source": [
    "have a classification problem, so can use a logistic regression or a random forest"
   ]
  },
  {
   "cell_type": "code",
   "execution_count": 84,
   "metadata": {
    "collapsed": true
   },
   "outputs": [],
   "source": [
    "model = linear_model.LogisticRegression()\n"
   ]
  },
  {
   "cell_type": "code",
   "execution_count": 85,
   "metadata": {
    "collapsed": false
   },
   "outputs": [
    {
     "data": {
      "text/plain": [
       "0.59252873563218389"
      ]
     },
     "execution_count": 85,
     "metadata": {},
     "output_type": "execute_result"
    }
   ],
   "source": [
    "cross_validation.cross_val_score(model, train_X, train_c, cv = 5).mean()\n"
   ]
  },
  {
   "cell_type": "code",
   "execution_count": 88,
   "metadata": {
    "collapsed": true
   },
   "outputs": [],
   "source": [
    "train_c_hat = cross_validation.cross_val_predict(model, train_X, train_c, cv = 5)\n"
   ]
  },
  {
   "cell_type": "code",
   "execution_count": 89,
   "metadata": {
    "collapsed": false
   },
   "outputs": [
    {
     "data": {
      "text/plain": [
       "0.59252873563218389"
      ]
     },
     "execution_count": 89,
     "metadata": {},
     "output_type": "execute_result"
    }
   ],
   "source": [
    "metrics.accuracy_score(train_c, train_c_hat)"
   ]
  },
  {
   "cell_type": "code",
   "execution_count": 90,
   "metadata": {
    "collapsed": false
   },
   "outputs": [
    {
     "data": {
      "text/html": [
       "<div>\n",
       "<table border=\"1\" class=\"dataframe\">\n",
       "  <thead>\n",
       "    <tr style=\"text-align: right;\">\n",
       "      <th>polarity</th>\n",
       "      <th>-1</th>\n",
       "      <th>0</th>\n",
       "      <th>1</th>\n",
       "    </tr>\n",
       "    <tr>\n",
       "      <th>row_0</th>\n",
       "      <th></th>\n",
       "      <th></th>\n",
       "      <th></th>\n",
       "    </tr>\n",
       "  </thead>\n",
       "  <tbody>\n",
       "    <tr>\n",
       "      <th>-1</th>\n",
       "      <td>385</td>\n",
       "      <td>157</td>\n",
       "      <td>54</td>\n",
       "    </tr>\n",
       "    <tr>\n",
       "      <th>0</th>\n",
       "      <td>111</td>\n",
       "      <td>248</td>\n",
       "      <td>128</td>\n",
       "    </tr>\n",
       "    <tr>\n",
       "      <th>1</th>\n",
       "      <td>84</td>\n",
       "      <td>175</td>\n",
       "      <td>398</td>\n",
       "    </tr>\n",
       "  </tbody>\n",
       "</table>\n",
       "</div>"
      ],
      "text/plain": [
       "polarity   -1    0    1\n",
       "row_0                  \n",
       "-1        385  157   54\n",
       " 0        111  248  128\n",
       " 1         84  175  398"
      ]
     },
     "execution_count": 90,
     "metadata": {},
     "output_type": "execute_result"
    }
   ],
   "source": [
    "pd.crosstab(train_c_hat, train_c)\n",
    "# truth is columns, predictions are rows"
   ]
  },
  {
   "cell_type": "code",
   "execution_count": 91,
   "metadata": {
    "collapsed": false
   },
   "outputs": [
    {
     "data": {
      "text/plain": [
       "LogisticRegression(C=1.0, class_weight=None, dual=False, fit_intercept=True,\n",
       "          intercept_scaling=1, max_iter=100, multi_class='ovr', n_jobs=1,\n",
       "          penalty='l2', random_state=None, solver='liblinear', tol=0.0001,\n",
       "          verbose=0, warm_start=False)"
      ]
     },
     "execution_count": 91,
     "metadata": {},
     "output_type": "execute_result"
    }
   ],
   "source": [
    "model.fit(train_X, train_c)"
   ]
  },
  {
   "cell_type": "code",
   "execution_count": 92,
   "metadata": {
    "collapsed": false
   },
   "outputs": [
    {
     "data": {
      "text/plain": [
       "0.60551248923341949"
      ]
     },
     "execution_count": 92,
     "metadata": {},
     "output_type": "execute_result"
    }
   ],
   "source": [
    "model.score(test_X, test_c)"
   ]
  },
  {
   "cell_type": "code",
   "execution_count": 93,
   "metadata": {
    "collapsed": false
   },
   "outputs": [
    {
     "data": {
      "text/plain": [
       "0.89195402298850579"
      ]
     },
     "execution_count": 93,
     "metadata": {},
     "output_type": "execute_result"
    }
   ],
   "source": [
    "model.score(train_X, train_c)"
   ]
  },
  {
   "cell_type": "markdown",
   "metadata": {},
   "source": [
    "the lower score of the test set compared to the train set indicates that we overfit.\n"
   ]
  },
  {
   "cell_type": "code",
   "execution_count": 95,
   "metadata": {
    "collapsed": true
   },
   "outputs": [],
   "source": [
    "model = ensemble.RandomForestClassifier(n_estimators = 100)"
   ]
  },
  {
   "cell_type": "code",
   "execution_count": 96,
   "metadata": {
    "collapsed": false
   },
   "outputs": [
    {
     "data": {
      "text/plain": [
       "0.55172413793103448"
      ]
     },
     "execution_count": 96,
     "metadata": {},
     "output_type": "execute_result"
    }
   ],
   "source": [
    "cross_validation.cross_val_score(model, train_X, train_c, cv = 5).mean()"
   ]
  },
  {
   "cell_type": "code",
   "execution_count": 97,
   "metadata": {
    "collapsed": false
   },
   "outputs": [
    {
     "data": {
      "text/plain": [
       "0.59252873563218389"
      ]
     },
     "execution_count": 97,
     "metadata": {},
     "output_type": "execute_result"
    }
   ],
   "source": [
    "metrics.accuracy_score(train_c, train_c_hat)"
   ]
  },
  {
   "cell_type": "code",
   "execution_count": 98,
   "metadata": {
    "collapsed": false
   },
   "outputs": [
    {
     "data": {
      "text/html": [
       "<div>\n",
       "<table border=\"1\" class=\"dataframe\">\n",
       "  <thead>\n",
       "    <tr style=\"text-align: right;\">\n",
       "      <th>polarity</th>\n",
       "      <th>-1</th>\n",
       "      <th>0</th>\n",
       "      <th>1</th>\n",
       "    </tr>\n",
       "    <tr>\n",
       "      <th>row_0</th>\n",
       "      <th></th>\n",
       "      <th></th>\n",
       "      <th></th>\n",
       "    </tr>\n",
       "  </thead>\n",
       "  <tbody>\n",
       "    <tr>\n",
       "      <th>-1</th>\n",
       "      <td>385</td>\n",
       "      <td>157</td>\n",
       "      <td>54</td>\n",
       "    </tr>\n",
       "    <tr>\n",
       "      <th>0</th>\n",
       "      <td>111</td>\n",
       "      <td>248</td>\n",
       "      <td>128</td>\n",
       "    </tr>\n",
       "    <tr>\n",
       "      <th>1</th>\n",
       "      <td>84</td>\n",
       "      <td>175</td>\n",
       "      <td>398</td>\n",
       "    </tr>\n",
       "  </tbody>\n",
       "</table>\n",
       "</div>"
      ],
      "text/plain": [
       "polarity   -1    0    1\n",
       "row_0                  \n",
       "-1        385  157   54\n",
       " 0        111  248  128\n",
       " 1         84  175  398"
      ]
     },
     "execution_count": 98,
     "metadata": {},
     "output_type": "execute_result"
    }
   ],
   "source": [
    "pd.crosstab(train_c_hat, train_c)"
   ]
  },
  {
   "cell_type": "code",
   "execution_count": 99,
   "metadata": {
    "collapsed": false
   },
   "outputs": [
    {
     "data": {
      "text/plain": [
       "RandomForestClassifier(bootstrap=True, class_weight=None, criterion='gini',\n",
       "            max_depth=None, max_features='auto', max_leaf_nodes=None,\n",
       "            min_samples_leaf=1, min_samples_split=2,\n",
       "            min_weight_fraction_leaf=0.0, n_estimators=100, n_jobs=1,\n",
       "            oob_score=False, random_state=None, verbose=0,\n",
       "            warm_start=False)"
      ]
     },
     "execution_count": 99,
     "metadata": {},
     "output_type": "execute_result"
    }
   ],
   "source": [
    "model.fit(train_X, train_c)"
   ]
  },
  {
   "cell_type": "code",
   "execution_count": 100,
   "metadata": {
    "collapsed": false
   },
   "outputs": [
    {
     "data": {
      "text/plain": [
       "0.55211024978466838"
      ]
     },
     "execution_count": 100,
     "metadata": {},
     "output_type": "execute_result"
    }
   ],
   "source": [
    "model.score(test_X, test_c)"
   ]
  },
  {
   "cell_type": "code",
   "execution_count": null,
   "metadata": {
    "collapsed": true
   },
   "outputs": [],
   "source": []
  }
 ],
 "metadata": {
  "anaconda-cloud": {},
  "kernelspec": {
   "display_name": "Python [conda root]",
   "language": "python",
   "name": "conda-root-py"
  },
  "language_info": {
   "codemirror_mode": {
    "name": "ipython",
    "version": 2
   },
   "file_extension": ".py",
   "mimetype": "text/x-python",
   "name": "python",
   "nbconvert_exporter": "python",
   "pygments_lexer": "ipython2",
   "version": "2.7.12"
  }
 },
 "nbformat": 4,
 "nbformat_minor": 0
}
