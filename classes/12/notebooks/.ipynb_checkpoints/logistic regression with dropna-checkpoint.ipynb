{
 "cells": [
  {
   "cell_type": "code",
   "execution_count": 30,
   "metadata": {
    "collapsed": false
   },
   "outputs": [],
   "source": [
    "import os\n",
    "\n",
    "import numpy as np\n",
    "import pandas as pd\n",
    "pd.set_option('display.max_rows', 10)\n",
    "pd.set_option('display.notebook_repr_html', True)\n",
    "pd.set_option('display.max_columns', 10)\n",
    "\n",
    "from sklearn import linear_model, cross_validation, preprocessing, neighbors, grid_search\n",
    "\n",
    "import matplotlib.pyplot as plt\n",
    "%matplotlib inline\n",
    "plt.style.use('ggplot')\n"
   ]
  },
  {
   "cell_type": "code",
   "execution_count": 31,
   "metadata": {
    "collapsed": false
   },
   "outputs": [],
   "source": [
    "df = pd.read_csv(os.path.join('..', 'datasets', 'dataset-12-walget-train.csv'))"
   ]
  },
  {
   "cell_type": "code",
   "execution_count": 32,
   "metadata": {
    "collapsed": false
   },
   "outputs": [
    {
     "data": {
      "text/html": [
       "<div>\n",
       "<table border=\"1\" class=\"dataframe\">\n",
       "  <thead>\n",
       "    <tr style=\"text-align: right;\">\n",
       "      <th></th>\n",
       "      <th>AccountHolderImpliedGender</th>\n",
       "      <th>AccountHolderAddress</th>\n",
       "      <th>RecentlyPurchasedPregnancyTest</th>\n",
       "      <th>RecentlyPurchasedBirthControl</th>\n",
       "      <th>RecentlyPurchasedFeminineHygieneProducts</th>\n",
       "      <th>...</th>\n",
       "      <th>RecentlyPurchasedSmokingCessationProducts</th>\n",
       "      <th>PurchasedWineRegularlyUntilRecentlyThenStopped</th>\n",
       "      <th>RecentlyPurchasedWine</th>\n",
       "      <th>RecentlyPurchasedMaternityClothing</th>\n",
       "      <th>IsPregnant</th>\n",
       "    </tr>\n",
       "  </thead>\n",
       "  <tbody>\n",
       "    <tr>\n",
       "      <th>0</th>\n",
       "      <td>Female</td>\n",
       "      <td>Apartment</td>\n",
       "      <td>False</td>\n",
       "      <td>True</td>\n",
       "      <td>False</td>\n",
       "      <td>...</td>\n",
       "      <td>False</td>\n",
       "      <td>False</td>\n",
       "      <td>False</td>\n",
       "      <td>False</td>\n",
       "      <td>False</td>\n",
       "    </tr>\n",
       "    <tr>\n",
       "      <th>1</th>\n",
       "      <td>Male</td>\n",
       "      <td>Apartment</td>\n",
       "      <td>False</td>\n",
       "      <td>False</td>\n",
       "      <td>True</td>\n",
       "      <td>...</td>\n",
       "      <td>False</td>\n",
       "      <td>False</td>\n",
       "      <td>True</td>\n",
       "      <td>False</td>\n",
       "      <td>False</td>\n",
       "    </tr>\n",
       "    <tr>\n",
       "      <th>2</th>\n",
       "      <td>Male</td>\n",
       "      <td>Apartment</td>\n",
       "      <td>False</td>\n",
       "      <td>False</td>\n",
       "      <td>False</td>\n",
       "      <td>...</td>\n",
       "      <td>False</td>\n",
       "      <td>False</td>\n",
       "      <td>False</td>\n",
       "      <td>False</td>\n",
       "      <td>False</td>\n",
       "    </tr>\n",
       "    <tr>\n",
       "      <th>3</th>\n",
       "      <td>Male</td>\n",
       "      <td>Apartment</td>\n",
       "      <td>False</td>\n",
       "      <td>False</td>\n",
       "      <td>False</td>\n",
       "      <td>...</td>\n",
       "      <td>False</td>\n",
       "      <td>False</td>\n",
       "      <td>True</td>\n",
       "      <td>False</td>\n",
       "      <td>False</td>\n",
       "    </tr>\n",
       "    <tr>\n",
       "      <th>4</th>\n",
       "      <td>Male</td>\n",
       "      <td>Apartment</td>\n",
       "      <td>False</td>\n",
       "      <td>False</td>\n",
       "      <td>True</td>\n",
       "      <td>...</td>\n",
       "      <td>False</td>\n",
       "      <td>False</td>\n",
       "      <td>False</td>\n",
       "      <td>False</td>\n",
       "      <td>False</td>\n",
       "    </tr>\n",
       "    <tr>\n",
       "      <th>...</th>\n",
       "      <td>...</td>\n",
       "      <td>...</td>\n",
       "      <td>...</td>\n",
       "      <td>...</td>\n",
       "      <td>...</td>\n",
       "      <td>...</td>\n",
       "      <td>...</td>\n",
       "      <td>...</td>\n",
       "      <td>...</td>\n",
       "      <td>...</td>\n",
       "      <td>...</td>\n",
       "    </tr>\n",
       "    <tr>\n",
       "      <th>595</th>\n",
       "      <td>Female</td>\n",
       "      <td>PO Box</td>\n",
       "      <td>False</td>\n",
       "      <td>False</td>\n",
       "      <td>False</td>\n",
       "      <td>...</td>\n",
       "      <td>False</td>\n",
       "      <td>NaN</td>\n",
       "      <td>False</td>\n",
       "      <td>False</td>\n",
       "      <td>True</td>\n",
       "    </tr>\n",
       "    <tr>\n",
       "      <th>596</th>\n",
       "      <td>Female</td>\n",
       "      <td>Home</td>\n",
       "      <td>False</td>\n",
       "      <td>False</td>\n",
       "      <td>False</td>\n",
       "      <td>...</td>\n",
       "      <td>False</td>\n",
       "      <td>False</td>\n",
       "      <td>False</td>\n",
       "      <td>False</td>\n",
       "      <td>True</td>\n",
       "    </tr>\n",
       "    <tr>\n",
       "      <th>597</th>\n",
       "      <td>Female</td>\n",
       "      <td>Apartment</td>\n",
       "      <td>False</td>\n",
       "      <td>False</td>\n",
       "      <td>False</td>\n",
       "      <td>...</td>\n",
       "      <td>False</td>\n",
       "      <td>False</td>\n",
       "      <td>False</td>\n",
       "      <td>True</td>\n",
       "      <td>True</td>\n",
       "    </tr>\n",
       "    <tr>\n",
       "      <th>598</th>\n",
       "      <td>Female</td>\n",
       "      <td>Home</td>\n",
       "      <td>False</td>\n",
       "      <td>False</td>\n",
       "      <td>True</td>\n",
       "      <td>...</td>\n",
       "      <td>False</td>\n",
       "      <td>False</td>\n",
       "      <td>False</td>\n",
       "      <td>False</td>\n",
       "      <td>True</td>\n",
       "    </tr>\n",
       "    <tr>\n",
       "      <th>599</th>\n",
       "      <td>Female</td>\n",
       "      <td>Apartment</td>\n",
       "      <td>True</td>\n",
       "      <td>False</td>\n",
       "      <td>False</td>\n",
       "      <td>...</td>\n",
       "      <td>False</td>\n",
       "      <td>False</td>\n",
       "      <td>False</td>\n",
       "      <td>False</td>\n",
       "      <td>True</td>\n",
       "    </tr>\n",
       "  </tbody>\n",
       "</table>\n",
       "<p>600 rows × 18 columns</p>\n",
       "</div>"
      ],
      "text/plain": [
       "    AccountHolderImpliedGender AccountHolderAddress  \\\n",
       "0                       Female            Apartment   \n",
       "1                         Male            Apartment   \n",
       "2                         Male            Apartment   \n",
       "3                         Male            Apartment   \n",
       "4                         Male            Apartment   \n",
       "..                         ...                  ...   \n",
       "595                     Female               PO Box   \n",
       "596                     Female                 Home   \n",
       "597                     Female            Apartment   \n",
       "598                     Female                 Home   \n",
       "599                     Female            Apartment   \n",
       "\n",
       "    RecentlyPurchasedPregnancyTest RecentlyPurchasedBirthControl  \\\n",
       "0                            False                          True   \n",
       "1                            False                         False   \n",
       "2                            False                         False   \n",
       "3                            False                         False   \n",
       "4                            False                         False   \n",
       "..                             ...                           ...   \n",
       "595                          False                         False   \n",
       "596                          False                         False   \n",
       "597                          False                         False   \n",
       "598                          False                         False   \n",
       "599                           True                         False   \n",
       "\n",
       "    RecentlyPurchasedFeminineHygieneProducts    ...      \\\n",
       "0                                      False    ...       \n",
       "1                                       True    ...       \n",
       "2                                      False    ...       \n",
       "3                                      False    ...       \n",
       "4                                       True    ...       \n",
       "..                                       ...    ...       \n",
       "595                                    False    ...       \n",
       "596                                    False    ...       \n",
       "597                                    False    ...       \n",
       "598                                     True    ...       \n",
       "599                                    False    ...       \n",
       "\n",
       "    RecentlyPurchasedSmokingCessationProducts  \\\n",
       "0                                       False   \n",
       "1                                       False   \n",
       "2                                       False   \n",
       "3                                       False   \n",
       "4                                       False   \n",
       "..                                        ...   \n",
       "595                                     False   \n",
       "596                                     False   \n",
       "597                                     False   \n",
       "598                                     False   \n",
       "599                                     False   \n",
       "\n",
       "    PurchasedWineRegularlyUntilRecentlyThenStopped RecentlyPurchasedWine  \\\n",
       "0                                            False                 False   \n",
       "1                                            False                  True   \n",
       "2                                            False                 False   \n",
       "3                                            False                  True   \n",
       "4                                            False                 False   \n",
       "..                                             ...                   ...   \n",
       "595                                            NaN                 False   \n",
       "596                                          False                 False   \n",
       "597                                          False                 False   \n",
       "598                                          False                 False   \n",
       "599                                          False                 False   \n",
       "\n",
       "    RecentlyPurchasedMaternityClothing IsPregnant  \n",
       "0                                False      False  \n",
       "1                                False      False  \n",
       "2                                False      False  \n",
       "3                                False      False  \n",
       "4                                False      False  \n",
       "..                                 ...        ...  \n",
       "595                              False       True  \n",
       "596                              False       True  \n",
       "597                               True       True  \n",
       "598                              False       True  \n",
       "599                              False       True  \n",
       "\n",
       "[600 rows x 18 columns]"
      ]
     },
     "execution_count": 32,
     "metadata": {},
     "output_type": "execute_result"
    }
   ],
   "source": [
    "df"
   ]
  },
  {
   "cell_type": "code",
   "execution_count": 33,
   "metadata": {
    "collapsed": false
   },
   "outputs": [
    {
     "data": {
      "text/plain": [
       "Index([u'AccountHolderImpliedGender', u'AccountHolderAddress',\n",
       "       u'RecentlyPurchasedPregnancyTest', u'RecentlyPurchasedBirthControl',\n",
       "       u'RecentlyPurchasedFeminineHygieneProducts',\n",
       "       u'RecentlyPurchasedFolicAcidSupplements',\n",
       "       u'RecentlyPurchasedPrenatalVitamins',\n",
       "       u'RecentlyPurchasedPrenatalYogaDVD', u'RecentlyPurchasedBodyPillow',\n",
       "       u'RecentlyPurchasedGingerAle', u'RecentlyPurchasedSeaBands',\n",
       "       u'PurchasedCigarettesRegularlyUntilRecentlyThenStopped',\n",
       "       u'RecentlyPurchasedCigarettes',\n",
       "       u'RecentlyPurchasedSmokingCessationProducts',\n",
       "       u'PurchasedWineRegularlyUntilRecentlyThenStopped',\n",
       "       u'RecentlyPurchasedWine', u'RecentlyPurchasedMaternityClothing',\n",
       "       u'IsPregnant'],\n",
       "      dtype='object')"
      ]
     },
     "execution_count": 33,
     "metadata": {},
     "output_type": "execute_result"
    }
   ],
   "source": [
    "df.columns\n"
   ]
  },
  {
   "cell_type": "code",
   "execution_count": 34,
   "metadata": {
    "collapsed": false
   },
   "outputs": [
    {
     "data": {
      "text/plain": [
       "AccountHolderImpliedGender                        58\n",
       "AccountHolderAddress                               6\n",
       "RecentlyPurchasedPregnancyTest                     6\n",
       "RecentlyPurchasedBirthControl                      7\n",
       "RecentlyPurchasedFeminineHygieneProducts          10\n",
       "                                                  ..\n",
       "RecentlyPurchasedSmokingCessationProducts         12\n",
       "PurchasedWineRegularlyUntilRecentlyThenStopped    12\n",
       "RecentlyPurchasedWine                              8\n",
       "RecentlyPurchasedMaternityClothing                 3\n",
       "IsPregnant                                         0\n",
       "dtype: int64"
      ]
     },
     "execution_count": 34,
     "metadata": {},
     "output_type": "execute_result"
    }
   ],
   "source": [
    "df.isnull().sum()"
   ]
  },
  {
   "cell_type": "code",
   "execution_count": null,
   "metadata": {
    "collapsed": false
   },
   "outputs": [],
   "source": []
  },
  {
   "cell_type": "code",
   "execution_count": 35,
   "metadata": {
    "collapsed": false
   },
   "outputs": [
    {
     "name": "stdout",
     "output_type": "stream",
     "text": [
      "AccountHolderImpliedGender nulls:  58\n",
      "AccountHolderAddress nulls:  6\n",
      "RecentlyPurchasedPregnancyTest nulls:  6\n",
      "RecentlyPurchasedBirthControl nulls:  7\n",
      "RecentlyPurchasedFeminineHygieneProducts nulls:  10\n",
      "RecentlyPurchasedFolicAcidSupplements nulls:  1\n",
      "RecentlyPurchasedPrenatalYogaDVD nulls:  6\n",
      "RecentlyPurchasedBodyPillow nulls:  9\n",
      "RecentlyPurchasedGingerAle nulls:  6\n",
      "RecentlyPurchasedFeminineHygieneProducts nulls:  10\n",
      "RecentlyPurchasedFeminineHygieneProducts nulls:  10\n",
      "RecentlyPurchasedFeminineHygieneProducts nulls:  10\n"
     ]
    }
   ],
   "source": [
    "print \"AccountHolderImpliedGender nulls:  \" + str(df.AccountHolderImpliedGender.isnull().sum())\n",
    "print \"AccountHolderAddress nulls:  \" + str(df.AccountHolderAddress.isnull().sum())\n",
    "print \"RecentlyPurchasedPregnancyTest nulls:  \" + str(df.RecentlyPurchasedPregnancyTest.isnull().sum())\n",
    "print \"RecentlyPurchasedBirthControl nulls:  \" + str(df.RecentlyPurchasedBirthControl.isnull().sum())\n",
    "print \"RecentlyPurchasedFeminineHygieneProducts nulls:  \" + str(df.RecentlyPurchasedFeminineHygieneProducts.isnull().sum())\n",
    "print \"RecentlyPurchasedFolicAcidSupplements nulls:  \" + str(df.RecentlyPurchasedFolicAcidSupplements.isnull().sum())\n",
    "print \"RecentlyPurchasedPrenatalYogaDVD nulls:  \" + str(df.RecentlyPurchasedPrenatalYogaDVD.isnull().sum())\n",
    "print \"RecentlyPurchasedBodyPillow nulls:  \" + str(df.RecentlyPurchasedBodyPillow.isnull().sum())\n",
    "print \"RecentlyPurchasedGingerAle nulls:  \" + str(df.RecentlyPurchasedGingerAle.isnull().sum())\n",
    "print \"RecentlyPurchasedFeminineHygieneProducts nulls:  \" + str(df.RecentlyPurchasedFeminineHygieneProducts.isnull().sum())\n",
    "print \"RecentlyPurchasedFeminineHygieneProducts nulls:  \" + str(df.RecentlyPurchasedFeminineHygieneProducts.isnull().sum())\n",
    "print \"RecentlyPurchasedFeminineHygieneProducts nulls:  \" + str(df.RecentlyPurchasedFeminineHygieneProducts.isnull().sum())\n"
   ]
  },
  {
   "cell_type": "code",
   "execution_count": 36,
   "metadata": {
    "collapsed": false
   },
   "outputs": [],
   "source": [
    "df1 = df*1"
   ]
  },
  {
   "cell_type": "code",
   "execution_count": 37,
   "metadata": {
    "collapsed": false
   },
   "outputs": [
    {
     "data": {
      "text/html": [
       "<div>\n",
       "<table border=\"1\" class=\"dataframe\">\n",
       "  <thead>\n",
       "    <tr style=\"text-align: right;\">\n",
       "      <th></th>\n",
       "      <th>AccountHolderImpliedGender</th>\n",
       "      <th>AccountHolderAddress</th>\n",
       "      <th>RecentlyPurchasedPregnancyTest</th>\n",
       "      <th>RecentlyPurchasedBirthControl</th>\n",
       "      <th>RecentlyPurchasedFeminineHygieneProducts</th>\n",
       "      <th>...</th>\n",
       "      <th>RecentlyPurchasedSmokingCessationProducts</th>\n",
       "      <th>PurchasedWineRegularlyUntilRecentlyThenStopped</th>\n",
       "      <th>RecentlyPurchasedWine</th>\n",
       "      <th>RecentlyPurchasedMaternityClothing</th>\n",
       "      <th>IsPregnant</th>\n",
       "    </tr>\n",
       "  </thead>\n",
       "  <tbody>\n",
       "    <tr>\n",
       "      <th>0</th>\n",
       "      <td>Female</td>\n",
       "      <td>Apartment</td>\n",
       "      <td>0</td>\n",
       "      <td>1</td>\n",
       "      <td>0</td>\n",
       "      <td>...</td>\n",
       "      <td>0</td>\n",
       "      <td>0</td>\n",
       "      <td>0</td>\n",
       "      <td>0</td>\n",
       "      <td>0</td>\n",
       "    </tr>\n",
       "    <tr>\n",
       "      <th>1</th>\n",
       "      <td>Male</td>\n",
       "      <td>Apartment</td>\n",
       "      <td>0</td>\n",
       "      <td>0</td>\n",
       "      <td>1</td>\n",
       "      <td>...</td>\n",
       "      <td>0</td>\n",
       "      <td>0</td>\n",
       "      <td>1</td>\n",
       "      <td>0</td>\n",
       "      <td>0</td>\n",
       "    </tr>\n",
       "    <tr>\n",
       "      <th>2</th>\n",
       "      <td>Male</td>\n",
       "      <td>Apartment</td>\n",
       "      <td>0</td>\n",
       "      <td>0</td>\n",
       "      <td>0</td>\n",
       "      <td>...</td>\n",
       "      <td>0</td>\n",
       "      <td>0</td>\n",
       "      <td>0</td>\n",
       "      <td>0</td>\n",
       "      <td>0</td>\n",
       "    </tr>\n",
       "    <tr>\n",
       "      <th>3</th>\n",
       "      <td>Male</td>\n",
       "      <td>Apartment</td>\n",
       "      <td>0</td>\n",
       "      <td>0</td>\n",
       "      <td>0</td>\n",
       "      <td>...</td>\n",
       "      <td>0</td>\n",
       "      <td>0</td>\n",
       "      <td>1</td>\n",
       "      <td>0</td>\n",
       "      <td>0</td>\n",
       "    </tr>\n",
       "    <tr>\n",
       "      <th>4</th>\n",
       "      <td>Male</td>\n",
       "      <td>Apartment</td>\n",
       "      <td>0</td>\n",
       "      <td>0</td>\n",
       "      <td>1</td>\n",
       "      <td>...</td>\n",
       "      <td>0</td>\n",
       "      <td>0</td>\n",
       "      <td>0</td>\n",
       "      <td>0</td>\n",
       "      <td>0</td>\n",
       "    </tr>\n",
       "    <tr>\n",
       "      <th>...</th>\n",
       "      <td>...</td>\n",
       "      <td>...</td>\n",
       "      <td>...</td>\n",
       "      <td>...</td>\n",
       "      <td>...</td>\n",
       "      <td>...</td>\n",
       "      <td>...</td>\n",
       "      <td>...</td>\n",
       "      <td>...</td>\n",
       "      <td>...</td>\n",
       "      <td>...</td>\n",
       "    </tr>\n",
       "    <tr>\n",
       "      <th>594</th>\n",
       "      <td>Female</td>\n",
       "      <td>Apartment</td>\n",
       "      <td>0</td>\n",
       "      <td>0</td>\n",
       "      <td>0</td>\n",
       "      <td>...</td>\n",
       "      <td>0</td>\n",
       "      <td>0</td>\n",
       "      <td>0</td>\n",
       "      <td>0</td>\n",
       "      <td>1</td>\n",
       "    </tr>\n",
       "    <tr>\n",
       "      <th>596</th>\n",
       "      <td>Female</td>\n",
       "      <td>Home</td>\n",
       "      <td>0</td>\n",
       "      <td>0</td>\n",
       "      <td>0</td>\n",
       "      <td>...</td>\n",
       "      <td>0</td>\n",
       "      <td>0</td>\n",
       "      <td>0</td>\n",
       "      <td>0</td>\n",
       "      <td>1</td>\n",
       "    </tr>\n",
       "    <tr>\n",
       "      <th>597</th>\n",
       "      <td>Female</td>\n",
       "      <td>Apartment</td>\n",
       "      <td>0</td>\n",
       "      <td>0</td>\n",
       "      <td>0</td>\n",
       "      <td>...</td>\n",
       "      <td>0</td>\n",
       "      <td>0</td>\n",
       "      <td>0</td>\n",
       "      <td>1</td>\n",
       "      <td>1</td>\n",
       "    </tr>\n",
       "    <tr>\n",
       "      <th>598</th>\n",
       "      <td>Female</td>\n",
       "      <td>Home</td>\n",
       "      <td>0</td>\n",
       "      <td>0</td>\n",
       "      <td>1</td>\n",
       "      <td>...</td>\n",
       "      <td>0</td>\n",
       "      <td>0</td>\n",
       "      <td>0</td>\n",
       "      <td>0</td>\n",
       "      <td>1</td>\n",
       "    </tr>\n",
       "    <tr>\n",
       "      <th>599</th>\n",
       "      <td>Female</td>\n",
       "      <td>Apartment</td>\n",
       "      <td>1</td>\n",
       "      <td>0</td>\n",
       "      <td>0</td>\n",
       "      <td>...</td>\n",
       "      <td>0</td>\n",
       "      <td>0</td>\n",
       "      <td>0</td>\n",
       "      <td>0</td>\n",
       "      <td>1</td>\n",
       "    </tr>\n",
       "  </tbody>\n",
       "</table>\n",
       "<p>446 rows × 18 columns</p>\n",
       "</div>"
      ],
      "text/plain": [
       "    AccountHolderImpliedGender AccountHolderAddress  \\\n",
       "0                       Female            Apartment   \n",
       "1                         Male            Apartment   \n",
       "2                         Male            Apartment   \n",
       "3                         Male            Apartment   \n",
       "4                         Male            Apartment   \n",
       "..                         ...                  ...   \n",
       "594                     Female            Apartment   \n",
       "596                     Female                 Home   \n",
       "597                     Female            Apartment   \n",
       "598                     Female                 Home   \n",
       "599                     Female            Apartment   \n",
       "\n",
       "    RecentlyPurchasedPregnancyTest RecentlyPurchasedBirthControl  \\\n",
       "0                                0                             1   \n",
       "1                                0                             0   \n",
       "2                                0                             0   \n",
       "3                                0                             0   \n",
       "4                                0                             0   \n",
       "..                             ...                           ...   \n",
       "594                              0                             0   \n",
       "596                              0                             0   \n",
       "597                              0                             0   \n",
       "598                              0                             0   \n",
       "599                              1                             0   \n",
       "\n",
       "    RecentlyPurchasedFeminineHygieneProducts    ...      \\\n",
       "0                                          0    ...       \n",
       "1                                          1    ...       \n",
       "2                                          0    ...       \n",
       "3                                          0    ...       \n",
       "4                                          1    ...       \n",
       "..                                       ...    ...       \n",
       "594                                        0    ...       \n",
       "596                                        0    ...       \n",
       "597                                        0    ...       \n",
       "598                                        1    ...       \n",
       "599                                        0    ...       \n",
       "\n",
       "    RecentlyPurchasedSmokingCessationProducts  \\\n",
       "0                                           0   \n",
       "1                                           0   \n",
       "2                                           0   \n",
       "3                                           0   \n",
       "4                                           0   \n",
       "..                                        ...   \n",
       "594                                         0   \n",
       "596                                         0   \n",
       "597                                         0   \n",
       "598                                         0   \n",
       "599                                         0   \n",
       "\n",
       "    PurchasedWineRegularlyUntilRecentlyThenStopped RecentlyPurchasedWine  \\\n",
       "0                                                0                     0   \n",
       "1                                                0                     1   \n",
       "2                                                0                     0   \n",
       "3                                                0                     1   \n",
       "4                                                0                     0   \n",
       "..                                             ...                   ...   \n",
       "594                                              0                     0   \n",
       "596                                              0                     0   \n",
       "597                                              0                     0   \n",
       "598                                              0                     0   \n",
       "599                                              0                     0   \n",
       "\n",
       "    RecentlyPurchasedMaternityClothing IsPregnant  \n",
       "0                                    0          0  \n",
       "1                                    0          0  \n",
       "2                                    0          0  \n",
       "3                                    0          0  \n",
       "4                                    0          0  \n",
       "..                                 ...        ...  \n",
       "594                                  0          1  \n",
       "596                                  0          1  \n",
       "597                                  1          1  \n",
       "598                                  0          1  \n",
       "599                                  0          1  \n",
       "\n",
       "[446 rows x 18 columns]"
      ]
     },
     "execution_count": 37,
     "metadata": {},
     "output_type": "execute_result"
    }
   ],
   "source": [
    "df1.dropna()"
   ]
  },
  {
   "cell_type": "code",
   "execution_count": 38,
   "metadata": {
    "collapsed": false
   },
   "outputs": [
    {
     "data": {
      "text/plain": [
       "count      594\n",
       "unique       3\n",
       "top       Home\n",
       "freq       295\n",
       "Name: AccountHolderAddress, dtype: object"
      ]
     },
     "execution_count": 38,
     "metadata": {},
     "output_type": "execute_result"
    }
   ],
   "source": [
    "df.AccountHolderAddress.describe()"
   ]
  },
  {
   "cell_type": "code",
   "execution_count": 39,
   "metadata": {
    "collapsed": false
   },
   "outputs": [
    {
     "data": {
      "text/plain": [
       "count        542\n",
       "unique         2\n",
       "top       Female\n",
       "freq         301\n",
       "Name: AccountHolderImpliedGender, dtype: object"
      ]
     },
     "execution_count": 39,
     "metadata": {},
     "output_type": "execute_result"
    }
   ],
   "source": [
    "df.AccountHolderImpliedGender.describe()"
   ]
  },
  {
   "cell_type": "code",
   "execution_count": 40,
   "metadata": {
    "collapsed": false
   },
   "outputs": [
    {
     "data": {
      "text/html": [
       "<div>\n",
       "<table border=\"1\" class=\"dataframe\">\n",
       "  <thead>\n",
       "    <tr style=\"text-align: right;\">\n",
       "      <th></th>\n",
       "      <th>AccountHolderImpliedGender</th>\n",
       "      <th>RecentlyPurchasedPregnancyTest</th>\n",
       "      <th>RecentlyPurchasedBirthControl</th>\n",
       "      <th>RecentlyPurchasedFeminineHygieneProducts</th>\n",
       "      <th>RecentlyPurchasedFolicAcidSupplements</th>\n",
       "      <th>...</th>\n",
       "      <th>RecentlyPurchasedMaternityClothing</th>\n",
       "      <th>IsPregnant</th>\n",
       "      <th>AccountHolderAddressType_Apartment</th>\n",
       "      <th>AccountHolderAddressType_Home</th>\n",
       "      <th>AccountHolderAddressType_PO Box</th>\n",
       "    </tr>\n",
       "  </thead>\n",
       "  <tbody>\n",
       "    <tr>\n",
       "      <th>0</th>\n",
       "      <td>1</td>\n",
       "      <td>0</td>\n",
       "      <td>1</td>\n",
       "      <td>0</td>\n",
       "      <td>0</td>\n",
       "      <td>...</td>\n",
       "      <td>0</td>\n",
       "      <td>0</td>\n",
       "      <td>1.0</td>\n",
       "      <td>0.0</td>\n",
       "      <td>0.0</td>\n",
       "    </tr>\n",
       "    <tr>\n",
       "      <th>1</th>\n",
       "      <td>0</td>\n",
       "      <td>0</td>\n",
       "      <td>0</td>\n",
       "      <td>1</td>\n",
       "      <td>0</td>\n",
       "      <td>...</td>\n",
       "      <td>0</td>\n",
       "      <td>0</td>\n",
       "      <td>1.0</td>\n",
       "      <td>0.0</td>\n",
       "      <td>0.0</td>\n",
       "    </tr>\n",
       "    <tr>\n",
       "      <th>2</th>\n",
       "      <td>0</td>\n",
       "      <td>0</td>\n",
       "      <td>0</td>\n",
       "      <td>0</td>\n",
       "      <td>0</td>\n",
       "      <td>...</td>\n",
       "      <td>0</td>\n",
       "      <td>0</td>\n",
       "      <td>1.0</td>\n",
       "      <td>0.0</td>\n",
       "      <td>0.0</td>\n",
       "    </tr>\n",
       "    <tr>\n",
       "      <th>3</th>\n",
       "      <td>0</td>\n",
       "      <td>0</td>\n",
       "      <td>0</td>\n",
       "      <td>0</td>\n",
       "      <td>0</td>\n",
       "      <td>...</td>\n",
       "      <td>0</td>\n",
       "      <td>0</td>\n",
       "      <td>1.0</td>\n",
       "      <td>0.0</td>\n",
       "      <td>0.0</td>\n",
       "    </tr>\n",
       "    <tr>\n",
       "      <th>4</th>\n",
       "      <td>0</td>\n",
       "      <td>0</td>\n",
       "      <td>0</td>\n",
       "      <td>1</td>\n",
       "      <td>0</td>\n",
       "      <td>...</td>\n",
       "      <td>0</td>\n",
       "      <td>0</td>\n",
       "      <td>1.0</td>\n",
       "      <td>0.0</td>\n",
       "      <td>0.0</td>\n",
       "    </tr>\n",
       "    <tr>\n",
       "      <th>...</th>\n",
       "      <td>...</td>\n",
       "      <td>...</td>\n",
       "      <td>...</td>\n",
       "      <td>...</td>\n",
       "      <td>...</td>\n",
       "      <td>...</td>\n",
       "      <td>...</td>\n",
       "      <td>...</td>\n",
       "      <td>...</td>\n",
       "      <td>...</td>\n",
       "      <td>...</td>\n",
       "    </tr>\n",
       "    <tr>\n",
       "      <th>594</th>\n",
       "      <td>1</td>\n",
       "      <td>0</td>\n",
       "      <td>0</td>\n",
       "      <td>0</td>\n",
       "      <td>0</td>\n",
       "      <td>...</td>\n",
       "      <td>0</td>\n",
       "      <td>1</td>\n",
       "      <td>1.0</td>\n",
       "      <td>0.0</td>\n",
       "      <td>0.0</td>\n",
       "    </tr>\n",
       "    <tr>\n",
       "      <th>596</th>\n",
       "      <td>1</td>\n",
       "      <td>0</td>\n",
       "      <td>0</td>\n",
       "      <td>0</td>\n",
       "      <td>0</td>\n",
       "      <td>...</td>\n",
       "      <td>0</td>\n",
       "      <td>1</td>\n",
       "      <td>0.0</td>\n",
       "      <td>1.0</td>\n",
       "      <td>0.0</td>\n",
       "    </tr>\n",
       "    <tr>\n",
       "      <th>597</th>\n",
       "      <td>1</td>\n",
       "      <td>0</td>\n",
       "      <td>0</td>\n",
       "      <td>0</td>\n",
       "      <td>0</td>\n",
       "      <td>...</td>\n",
       "      <td>1</td>\n",
       "      <td>1</td>\n",
       "      <td>1.0</td>\n",
       "      <td>0.0</td>\n",
       "      <td>0.0</td>\n",
       "    </tr>\n",
       "    <tr>\n",
       "      <th>598</th>\n",
       "      <td>1</td>\n",
       "      <td>0</td>\n",
       "      <td>0</td>\n",
       "      <td>1</td>\n",
       "      <td>0</td>\n",
       "      <td>...</td>\n",
       "      <td>0</td>\n",
       "      <td>1</td>\n",
       "      <td>0.0</td>\n",
       "      <td>1.0</td>\n",
       "      <td>0.0</td>\n",
       "    </tr>\n",
       "    <tr>\n",
       "      <th>599</th>\n",
       "      <td>1</td>\n",
       "      <td>1</td>\n",
       "      <td>0</td>\n",
       "      <td>0</td>\n",
       "      <td>1</td>\n",
       "      <td>...</td>\n",
       "      <td>0</td>\n",
       "      <td>1</td>\n",
       "      <td>1.0</td>\n",
       "      <td>0.0</td>\n",
       "      <td>0.0</td>\n",
       "    </tr>\n",
       "  </tbody>\n",
       "</table>\n",
       "<p>446 rows × 20 columns</p>\n",
       "</div>"
      ],
      "text/plain": [
       "     AccountHolderImpliedGender RecentlyPurchasedPregnancyTest  \\\n",
       "0                             1                              0   \n",
       "1                             0                              0   \n",
       "2                             0                              0   \n",
       "3                             0                              0   \n",
       "4                             0                              0   \n",
       "..                          ...                            ...   \n",
       "594                           1                              0   \n",
       "596                           1                              0   \n",
       "597                           1                              0   \n",
       "598                           1                              0   \n",
       "599                           1                              1   \n",
       "\n",
       "    RecentlyPurchasedBirthControl RecentlyPurchasedFeminineHygieneProducts  \\\n",
       "0                               1                                        0   \n",
       "1                               0                                        1   \n",
       "2                               0                                        0   \n",
       "3                               0                                        0   \n",
       "4                               0                                        1   \n",
       "..                            ...                                      ...   \n",
       "594                             0                                        0   \n",
       "596                             0                                        0   \n",
       "597                             0                                        0   \n",
       "598                             0                                        1   \n",
       "599                             0                                        0   \n",
       "\n",
       "    RecentlyPurchasedFolicAcidSupplements               ...                \\\n",
       "0                                       0               ...                 \n",
       "1                                       0               ...                 \n",
       "2                                       0               ...                 \n",
       "3                                       0               ...                 \n",
       "4                                       0               ...                 \n",
       "..                                    ...               ...                 \n",
       "594                                     0               ...                 \n",
       "596                                     0               ...                 \n",
       "597                                     0               ...                 \n",
       "598                                     0               ...                 \n",
       "599                                     1               ...                 \n",
       "\n",
       "    RecentlyPurchasedMaternityClothing IsPregnant  \\\n",
       "0                                    0          0   \n",
       "1                                    0          0   \n",
       "2                                    0          0   \n",
       "3                                    0          0   \n",
       "4                                    0          0   \n",
       "..                                 ...        ...   \n",
       "594                                  0          1   \n",
       "596                                  0          1   \n",
       "597                                  1          1   \n",
       "598                                  0          1   \n",
       "599                                  0          1   \n",
       "\n",
       "    AccountHolderAddressType_Apartment AccountHolderAddressType_Home  \\\n",
       "0                                  1.0                           0.0   \n",
       "1                                  1.0                           0.0   \n",
       "2                                  1.0                           0.0   \n",
       "3                                  1.0                           0.0   \n",
       "4                                  1.0                           0.0   \n",
       "..                                 ...                           ...   \n",
       "594                                1.0                           0.0   \n",
       "596                                0.0                           1.0   \n",
       "597                                1.0                           0.0   \n",
       "598                                0.0                           1.0   \n",
       "599                                1.0                           0.0   \n",
       "\n",
       "    AccountHolderAddressType_PO Box  \n",
       "0                               0.0  \n",
       "1                               0.0  \n",
       "2                               0.0  \n",
       "3                               0.0  \n",
       "4                               0.0  \n",
       "..                              ...  \n",
       "594                             0.0  \n",
       "596                             0.0  \n",
       "597                             0.0  \n",
       "598                             0.0  \n",
       "599                             0.0  \n",
       "\n",
       "[446 rows x 20 columns]"
      ]
     },
     "execution_count": 40,
     "metadata": {},
     "output_type": "execute_result"
    }
   ],
   "source": [
    "df = pd.read_csv(os.path.join('..', 'datasets', 'dataset-12-walget-train.csv'))\n",
    "df.dropna(inplace = True)\n",
    "df.AccountHolderImpliedGender = df.AccountHolderImpliedGender.apply(lambda value: 0 if value == 'Male' else 1)\n",
    "df_address = pd.get_dummies(df.AccountHolderAddress, prefix=\"AccountHolderAddressType\")\n",
    "df.drop('AccountHolderAddress', axis=1, inplace=True)\n",
    "df = df.join([df_address])\n",
    "df = df*1\n",
    "df\n"
   ]
  },
  {
   "cell_type": "code",
   "execution_count": 41,
   "metadata": {
    "collapsed": false
   },
   "outputs": [
    {
     "data": {
      "text/plain": [
       "AccountHolderImpliedGender                  0\n",
       "RecentlyPurchasedPregnancyTest              0\n",
       "RecentlyPurchasedBirthControl               0\n",
       "RecentlyPurchasedFeminineHygieneProducts    0\n",
       "RecentlyPurchasedFolicAcidSupplements       0\n",
       "                                           ..\n",
       "RecentlyPurchasedMaternityClothing          0\n",
       "IsPregnant                                  0\n",
       "AccountHolderAddressType_Apartment          0\n",
       "AccountHolderAddressType_Home               0\n",
       "AccountHolderAddressType_PO Box             0\n",
       "dtype: int64"
      ]
     },
     "execution_count": 41,
     "metadata": {},
     "output_type": "execute_result"
    }
   ],
   "source": [
    "df.isnull().sum()"
   ]
  },
  {
   "cell_type": "code",
   "execution_count": 42,
   "metadata": {
    "collapsed": false
   },
   "outputs": [
    {
     "data": {
      "text/plain": [
       "(446, 20)"
      ]
     },
     "execution_count": 42,
     "metadata": {},
     "output_type": "execute_result"
    }
   ],
   "source": [
    "df.shape"
   ]
  },
  {
   "cell_type": "code",
   "execution_count": 43,
   "metadata": {
    "collapsed": false
   },
   "outputs": [
    {
     "data": {
      "text/plain": [
       "IsPregnant                            1.000000\n",
       "AccountHolderImpliedGender            0.131748\n",
       "AccountHolderAddressType_Home         0.053855\n",
       "AccountHolderAddressType_PO Box       0.009061\n",
       "AccountHolderAddressType_Apartment   -0.060445\n",
       "Name: IsPregnant, dtype: float64"
      ]
     },
     "execution_count": 43,
     "metadata": {},
     "output_type": "execute_result"
    }
   ],
   "source": [
    "df.corr().IsPregnant.sort_values(ascending = False).head()"
   ]
  },
  {
   "cell_type": "code",
   "execution_count": 44,
   "metadata": {
    "collapsed": true
   },
   "outputs": [],
   "source": [
    "train_df = df.sample(frac = .6, random_state = 0)\n",
    "test_df = df.drop(train_df.index)"
   ]
  },
  {
   "cell_type": "code",
   "execution_count": 45,
   "metadata": {
    "collapsed": false
   },
   "outputs": [
    {
     "data": {
      "text/plain": [
       "Index([u'AccountHolderImpliedGender', u'RecentlyPurchasedPregnancyTest',\n",
       "       u'RecentlyPurchasedBirthControl',\n",
       "       u'RecentlyPurchasedFeminineHygieneProducts',\n",
       "       u'RecentlyPurchasedFolicAcidSupplements',\n",
       "       u'RecentlyPurchasedPrenatalVitamins',\n",
       "       u'RecentlyPurchasedPrenatalYogaDVD', u'RecentlyPurchasedBodyPillow',\n",
       "       u'RecentlyPurchasedGingerAle', u'RecentlyPurchasedSeaBands',\n",
       "       u'PurchasedCigarettesRegularlyUntilRecentlyThenStopped',\n",
       "       u'RecentlyPurchasedCigarettes',\n",
       "       u'RecentlyPurchasedSmokingCessationProducts',\n",
       "       u'PurchasedWineRegularlyUntilRecentlyThenStopped',\n",
       "       u'RecentlyPurchasedWine', u'RecentlyPurchasedMaternityClothing',\n",
       "       u'IsPregnant', u'AccountHolderAddressType_Apartment',\n",
       "       u'AccountHolderAddressType_Home', u'AccountHolderAddressType_PO Box'],\n",
       "      dtype='object')"
      ]
     },
     "execution_count": 45,
     "metadata": {},
     "output_type": "execute_result"
    }
   ],
   "source": [
    "train_df.columns"
   ]
  },
  {
   "cell_type": "raw",
   "metadata": {},
   "source": []
  },
  {
   "cell_type": "code",
   "execution_count": 52,
   "metadata": {
    "collapsed": false
   },
   "outputs": [
    {
     "name": "stdout",
     "output_type": "stream",
     "text": [
      "training score = 0.880597014925\n",
      "testing score = 0.842696629213\n",
      "training misclassification = 0.119402985075\n",
      "testing  misclassification = 0.157303370787\n"
     ]
    }
   ],
   "source": [
    "\n",
    "names_X = [\n",
    "    u'AccountHolderImpliedGender', \n",
    "    u'RecentlyPurchasedPregnancyTest',\n",
    "    u'RecentlyPurchasedBirthControl',\n",
    "    u'RecentlyPurchasedFeminineHygieneProducts',\n",
    "    u'RecentlyPurchasedFolicAcidSupplements',\n",
    "    u'RecentlyPurchasedPrenatalVitamins',\n",
    "    u'RecentlyPurchasedPrenatalYogaDVD', \n",
    "    u'RecentlyPurchasedBodyPillow',\n",
    "    u'RecentlyPurchasedGingerAle', \n",
    "    u'RecentlyPurchasedSeaBands',\n",
    "    u'PurchasedCigarettesRegularlyUntilRecentlyThenStopped',\n",
    "    u'RecentlyPurchasedCigarettes',\n",
    "    u'RecentlyPurchasedSmokingCessationProducts',\n",
    "    u'PurchasedWineRegularlyUntilRecentlyThenStopped',\n",
    "    u'RecentlyPurchasedWine', \n",
    "    u'RecentlyPurchasedMaternityClothing',\n",
    "    u'AccountHolderAddressType_Apartment',\n",
    "    u'AccountHolderAddressType_Home', \n",
    "    u'AccountHolderAddressType_PO Box']\n",
    "\n",
    "def X_c(df):\n",
    "    X = df[ names_X ]\n",
    "    c = df.IsPregnant\n",
    "    return X, c\n",
    "\n",
    "train_X, train_c = X_c(train_df)\n",
    "test_X, test_c = X_c(test_df)\n",
    "\n",
    "model = linear_model.LogisticRegression().\\\n",
    "    fit(train_X, train_c)\n",
    "    \n",
    "print 'training score =', str(model.score(train_X, train_c))\n",
    "print 'testing score =', str(model.score(test_X, test_c))\n",
    "print 'training misclassification =', 1 - model.score(train_X, train_c)\n",
    "print 'testing  misclassification =', 1 - model.score(test_X, test_c)"
   ]
  },
  {
   "cell_type": "code",
   "execution_count": 47,
   "metadata": {
    "collapsed": false
   },
   "outputs": [
    {
     "name": "stdout",
     "output_type": "stream",
     "text": [
      "[-0.62424469]\n",
      "[[ 0.34360642  1.59052742 -1.55608371 -1.57718155  2.23491571  1.87382994\n",
      "   0.87759426  0.59075067  0.90521012  0.30088385  1.38814416 -0.82636726\n",
      "   1.19841542  1.04652964 -0.95029725  1.78378732 -0.15749996 -0.11916266\n",
      "  -0.34758207]]\n"
     ]
    }
   ],
   "source": [
    "model = linear_model.LogisticRegression().\\\n",
    "    fit(train_X, train_c)\n",
    "\n",
    "print model.intercept_\n",
    "print model.coef_"
   ]
  },
  {
   "cell_type": "code",
   "execution_count": 48,
   "metadata": {
    "collapsed": false
   },
   "outputs": [
    {
     "name": "stdout",
     "output_type": "stream",
     "text": [
      "training score = 0.880597014925\n",
      "testing score = 0.842696629213\n",
      "training misclassification = 0.119402985075\n",
      "testing  misclassification = 0.157303370787\n"
     ]
    }
   ],
   "source": [
    "print 'training score =', str(model.score(train_X, train_c))\n",
    "print 'testing score =', str(model.score(test_X, test_c))\n",
    "print 'training misclassification =', 1 - model.score(train_X, train_c)\n",
    "print 'testing  misclassification =', 1 - model.score(test_X, test_c)"
   ]
  },
  {
   "cell_type": "code",
   "execution_count": 20,
   "metadata": {
    "collapsed": false
   },
   "outputs": [
    {
     "data": {
      "text/plain": [
       "[(u'AccountHolderImpliedGender', 0.41002357174463255),\n",
       " (u'RecentlyPurchasedPregnancyTest', 3.9063359326736569),\n",
       " (u'RecentlyPurchasedBirthControl', -0.78903936133755948),\n",
       " (u'RecentlyPurchasedFeminineHygieneProducts', -0.79344355171339198),\n",
       " (u'RecentlyPurchasedFolicAcidSupplements', 8.3456940388471867),\n",
       " (u'RecentlyPurchasedPrenatalVitamins', 5.5131938041061099),\n",
       " (u'RecentlyPurchasedPrenatalYogaDVD', 1.405106687581466),\n",
       " (u'RecentlyPurchasedBodyPillow', 0.80534312955202125),\n",
       " (u'RecentlyPurchasedGingerAle', 1.4724513682846596),\n",
       " (u'RecentlyPurchasedSeaBands', 0.35105240702153884),\n",
       " (u'PurchasedCigarettesRegularlyUntilRecentlyThenStopped', 3.0074060532599969),\n",
       " (u'RecentlyPurchasedCigarettes', -0.56236377748578592),\n",
       " (u'RecentlyPurchasedSmokingCessationProducts', 2.3148600843336253),\n",
       " (u'PurchasedWineRegularlyUntilRecentlyThenStopped', 1.8477512407655872),\n",
       " (u'RecentlyPurchasedWine', -0.61337391878918979),\n",
       " (u'RecentlyPurchasedMaternityClothing', 4.9523572466771624),\n",
       " (u'AccountHolderAddressType_Apartment', -0.14572315216425402),\n",
       " (u'AccountHolderAddressType_Home', -0.112336598059396),\n",
       " (u'AccountHolderAddressType_PO Box', -0.29360596368170033)]"
      ]
     },
     "execution_count": 20,
     "metadata": {},
     "output_type": "execute_result"
    }
   ],
   "source": [
    "zip(names_X, np.exp(model.coef_[0]) - 1)"
   ]
  },
  {
   "cell_type": "code",
   "execution_count": 21,
   "metadata": {
    "collapsed": false
   },
   "outputs": [],
   "source": []
  },
  {
   "cell_type": "code",
   "execution_count": null,
   "metadata": {
    "collapsed": false
   },
   "outputs": [],
   "source": []
  },
  {
   "cell_type": "code",
   "execution_count": 49,
   "metadata": {
    "collapsed": true
   },
   "outputs": [],
   "source": []
  },
  {
   "cell_type": "code",
   "execution_count": null,
   "metadata": {
    "collapsed": true
   },
   "outputs": [],
   "source": []
  }
 ],
 "metadata": {
  "kernelspec": {
   "display_name": "Python [conda root]",
   "language": "python",
   "name": "conda-root-py"
  },
  "language_info": {
   "codemirror_mode": {
    "name": "ipython",
    "version": 2
   },
   "file_extension": ".py",
   "mimetype": "text/x-python",
   "name": "python",
   "nbconvert_exporter": "python",
   "pygments_lexer": "ipython2",
   "version": "2.7.12"
  }
 },
 "nbformat": 4,
 "nbformat_minor": 1
}
