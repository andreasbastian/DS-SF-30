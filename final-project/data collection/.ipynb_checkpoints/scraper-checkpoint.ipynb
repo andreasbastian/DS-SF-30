{
 "cells": [
  {
   "cell_type": "code",
   "execution_count": 1,
   "metadata": {
    "collapsed": true
   },
   "outputs": [],
   "source": [
    "import numpy as np\n",
    "import time\n",
    "import requests\n",
    "import os\n",
    "import gzip\n",
    "import json"
   ]
  },
  {
   "cell_type": "markdown",
   "metadata": {},
   "source": [
    "## First, determine structure of data to scrape"
   ]
  },
  {
   "cell_type": "markdown",
   "metadata": {},
   "source": [
    "The website in question, http://www.afsinc.org/metalcasterdirectory/results.cfm?companyname=, is a list of corporate members of the AFS.  Each member has a MetalCasterID field that makes each of the entry unique, such as this one:  http://www.afsinc.org/metalcasterdirectory/details.cfm?MetalCasterID=CSD00125396&SearchParams=.  Each MetalCasterID begins with 'CSD' and is followed by a sequence of numbers.  The link to the metal caster profile has the text \"View Full Listing\""
   ]
  },
  {
   "cell_type": "code",
   "execution_count": null,
   "metadata": {
    "collapsed": true
   },
   "outputs": [],
   "source": []
  },
  {
   "cell_type": "code",
   "execution_count": null,
   "metadata": {
    "collapsed": true
   },
   "outputs": [],
   "source": []
  },
  {
   "cell_type": "code",
   "execution_count": null,
   "metadata": {
    "collapsed": true
   },
   "outputs": [],
   "source": []
  },
  {
   "cell_type": "code",
   "execution_count": null,
   "metadata": {
    "collapsed": true
   },
   "outputs": [],
   "source": []
  },
  {
   "cell_type": "code",
   "execution_count": null,
   "metadata": {
    "collapsed": true
   },
   "outputs": [],
   "source": []
  },
  {
   "cell_type": "code",
   "execution_count": 2,
   "metadata": {
    "collapsed": true
   },
   "outputs": [],
   "source": [
    "response = requests.get('http://www.afsinc.org/metalcasterdirectory/details.cfm?MetalCasterID=CSD00125396&SearchParams=')"
   ]
  },
  {
   "cell_type": "code",
   "execution_count": 4,
   "metadata": {
    "collapsed": false
   },
   "outputs": [
    {
     "data": {
      "text/plain": [
       "200"
      ]
     },
     "execution_count": 4,
     "metadata": {},
     "output_type": "execute_result"
    }
   ],
   "source": [
    "response.status_code"
   ]
  },
  {
   "cell_type": "code",
   "execution_count": 6,
   "metadata": {
    "collapsed": false
   },
   "outputs": [
    {
     "data": {
      "text/plain": [
       "'UTF-8'"
      ]
     },
     "execution_count": 6,
     "metadata": {},
     "output_type": "execute_result"
    }
   ],
   "source": [
    "response.encoding"
   ]
  },
  {
   "cell_type": "code",
   "execution_count": 5,
   "metadata": {
    "collapsed": false
   },
   "outputs": [
    {
     "data": {
      "text/plain": [
       "'\\n\\n\\n<!DOCTYPE html>\\n<html class=\"rl\">\\n<head>\\n<meta charset=\"utf-8\" />\\n<meta name=\"viewport\" content=\"width=device-width, initial-scale=1\" />\\n<!--[if IE 8]><meta http-equiv=\"X-UA-Compatible\" content=\"IE=EmulateIE7\" /><![endif]-->\\n<meta name=\"google-site-verification\" content=\"TnPjMqbIoD1CFycX_TsZKvdUW5z0tD_qhpY9nWKyfJI\" />\\n<link type=\"text/css\" rel=\"stylesheet\" href=\"/files/style/reset.css\" />\\n<link type=\"text/css\" rel=\"stylesheet\" href=\"/files/style/public_Test.css\" />\\n<!--[if lte IE 7]>\\n<link type=\"text/css\" rel=\"stylesheet\" href=\"/files/style/ie.css\" />\\n<![endif]-->\\n<script src=\"/files/style/jquery-1.7.1.min.js\" type=\"text/javascript\"></script>\\n<script src=\"/files/style/jquery.tools.min.js\" type=\"text/javascript\"></script>\\n<script src=\"/files/style/modernizr.custom.18029.js\" type=\"text/javascript\"></script>\\n<script src=\"/files/style/jquery.featureCarousel.min.js\" type=\"text/javascript\"></script>\\n<script src=\"/files/style/scripts.js\" type=\"text/javascript\"></script>\\n\\n\\n\\n\\n\\n\\n\\n<script type=\"text/javascript\">\\nvar _gaq = _gaq || [];\\n_gaq.push([\\'_setAccount\\', \\'UA-31403565-1\\']);\\n_gaq.push([\\'_trackPageview\\']);\\n(function() {\\nvar ga = document.createElement(\\'script\\'); ga.type = \\'text/javascript\\'; ga.async = true;\\nga.src = (\\'https:\\' == document.location.protocol ? \\'https://ssl\\' : \\'http://www\\') + \\'.google-analytics.com/ga.js\\';\\nvar s = document.getElementsByTagName(\\'script\\')[0]; s.parentNode.insertBefore(ga, s);\\n})();\\n</script>\\n<title>Metalcaster Directory Search</title><script src=\"/applications/adspace/admetrics.js\" type=\"text/javascript\"></script><link rel=\"canonical\" href=\"http://www.afsinc.org/metalcasterdirectory/details.cfm?MetalCasterID=CSD00125396&amp;SearchParams=\" /></head>\\n<body>\\n<div id=\"header\">\\n<div id=\"header_bounds\">\\n<div id=\"logo\">\\n<a href=\"/index.cfm\">\\n<img src=\"/files/PageLayoutImages/logo_Tag.png\" alt=\"AFS - American Foundry Society\" />\\n</a>\\n</div><!-- /logo -->\\n<div id=\"header_tools\">\\n<div id=\"header_utility\">\\n\\n\\n\\n\\n\\n\\n\\n<a href=\"http://www.afsinc.org/about/content.cfm?ItemNumber=6860&navItemNumber=622\">Join AFS</a>\\n<span>|</span>\\n<a href=\"https://hub.afsinc.org/nc__store\">AFS Store</a>\\n<span>|</span>\\n<a href=\"http://www.afslibrary.com\">Online Library</a>\\n<span>|</span>\\n<a href=\"http://www.afsinc.org/about/content.cfm?ItemNumber=7902\">Contact Us</a>\\n</div><!-- /header_utility -->\\n<div id=\"header_search\">\\n<form action=\"/search/categorizedsearchresults.cfm\" method=\"get\">\\n<input type=\"text\" name=\"keywords\" title=\"search\" placeholder=\"Search AFS\" />\\n<input type=\"submit\" value=\"Go\" />\\n<img src=\"/files/PageLayoutImages/icon_search.png\" alt=\"\" />\\n</form>\\n<a class=\"advanced_search\" href=\"/search/CategorizedSearch.cfm\">Advanced Search</a>\\n</div><!-- /header_search -->\\n<div id=\"header_login\">\\n<h6><a href=\"/account/login.cfm\">Log In </a></h6>\\n<a class=\"forgot_password\" href=\"https://hub.afsinc.org/\">Forgot password?</a>\\n</div><!-- /header_login -->\\n</div><!-- /header_tools -->\\n\\n\\n\\n\\n\\n\\n\\n<ul id=\"nav\" class=\"closed\">\\n<li class=\"primary\" id=\"show_nav\"><a href=\"#\">Show Navigation</a>\\n</li>\\n<li class=\"primary\">\\n<a href=\"/news/?navItemNumber=500\">Events & News</a>\\n<div class=\"secondary\">\\n<div class=\"arrow\"></div>\\n<ul><li>\\n<a href=\"/news/eventList.cfm?navItemNumber=506\">Upcoming Events</a>\\n</li>\\n<li>\\n<a href=\"http://www.afsinc.org/HRConferenceHome.cfm?navItemNumber=19547\">Metalcasting Industry Human Resources Conference</a>\\n</li>\\n<li>\\n<a href=\"http://www.afsinc.org/SupplierSummit.cfm\">Supplier Summit</a>\\n</li>\\n<li>\\n<a href=\"http://www.afsinc.org/MetalcasterSummit.cfm\">Metal Casting Summit</a>\\n</li>\\n<li>\\n<a href=\"http://www.afsinc.org/MccLanding.cfm?navItemNumber=19357\">Metalcasting Congress</a>\\n</li>\\n<li>\\n<a href=\"https://hub.afsinc.org/nc__Event?id=a2A1a000000NQ6BEAW&navItemNumber=19501\">Government Affairs Fly-In</a>\\n</li>\\n<li>\\n<a href=\"/news/CElanding.cfm?navItemNumber=507\">CastExpo</a>\\n</li>\\n<li>\\n<a href=\"/news/newsList.cfm?navItemNumber=509\">News</a>\\n</li>\\n<li>\\n<a href=\"http://www.afsinc.org/content.cfm?ItemNumber=19534&RDtoken=47970&userID=38243&navItemNumber=19533\">Sponsorships</a>\\n</li></ul></div></li>\\n<li class=\"primary selected\">\\n<a href=\"/multimedia/?navItemNumber=501\" class=\"selected\">Magazines & Multimedia</a>\\n<div class=\"secondary\">\\n<div class=\"arrow\"></div>\\n<ul><li>\\n<a href=\"/multimedia/modernCasting.cfm?navItemNumber=511\">Modern Casting</a>\\n</li>\\n<li>\\n<a href=\"/multimedia/MCDP.cfm?navItemNumber=512\">Metal Casting Design & Purchasing</a>\\n</li>\\n<li>\\n<a href=\"/multimedia/globalCasting.cfm?navItemNumber=513\">Global Casting</a>\\n</li>\\n<li>\\n<a href=\"/technical/IJM.cfm?navItemNumber=514\">International Journal of Metalcasting</a>\\n</li>\\n<li>\\n<a href=\"http://meltingpoint.squarespace.com/?navItemNumber=19525\">Melting Point</a>\\n</li>\\n<li>\\n<a href=\"http://www.afsinc.org/multimedia/MCTV.cfm?navItemNumber=515\">Metalcasting TV</a>\\n</li>\\n<li>\\n<a href=\"/multimedia/content.cfm?ItemNumber=7852&navItemNumber=517\">Castingpedia</a>\\n</li>\\n<li>\\n<a href=\"http://www.afsinc.org/about/content.cfm?ItemNumber=7857&RDtoken=22534&navItemNumber=519\">Advertising</a>\\n</li>\\n<li>\\n<a href=\"http://www.afsinc.org/multimedia/blog.cfm?ItemNumber=19687&RDtoken=15130&userID=38243&navItemNumber=19685\">Member Connections Newsletter</a>\\n</li></ul></div></li>\\n<li class=\"primary\">\\n<a href=\"/career/?navItemNumber=502\">Education & Careers</a>\\n<div class=\"secondary\">\\n<div class=\"arrow\"></div>\\n<ul><li>\\n<a href=\"http://www.afsinc.org/career/content.cfm?ItemNumber=16273&navItemNumber=16365\">AFS Institute</a>\\n</li>\\n<li>\\n<a href=\"http://www.afsinc.org/career/content.cfm?ItemNumber=19161&navItemNumber=19171\">eLearning & Library Subscription Program</a>\\n</li>\\n<li>\\n<a href=\"http://www.afsinc.org/IC_BasicMetalcasting.cfm\">Classroom Skills Training</a>\\n</li>\\n<li>\\n<a href=\"https://hub.afsinc.org/nc__upcomingevents?type=Institute+Class&navItemNumber=15452\">Education Calendar</a>\\n</li>\\n<li>\\n<a href=\"http://www.afsinc.org/content.cfm?ItemNumber=7546&navItemNumber=15454\">In-Plant Training</a>\\n</li>\\n<li>\\n<a href=\"http://afsinc-jobs.careerwebsite.com/home/index.cfm?site_id=1920\">Metalcasting Job Board</a>\\n</li>\\n<li>\\n<a href=\"/career/content.cfm?ItemNumber=13398&navItemNumber=13519\">Future Leaders of Metalcasting (FLM)</a>\\n</li>\\n<li>\\n<a href=\"http://www.afsinc.org/career/content.cfm?ItemNumber=18458&RDtoken=1357&userID=38243&navItemNumber=18462\">Women in Metalcasting (WIM)</a>\\n</li>\\n<li>\\n<a href=\"http://www.afsinc.org/career/content.cfm?ItemNumber=13110&navItemNumber=13446&navItemNumber=520\">Student Outreach</a>\\n</li></ul></div></li>\\n<li class=\"primary\">\\n<a href=\"/government/?navItemNumber=503\">Government & EHS</a>\\n<div class=\"secondary\">\\n<div class=\"arrow\"></div>\\n<ul><li>\\n<a href=\"http://www.afsinc.org/news/governmentNews.cfm?navItemNumber=548&navItemNumber=15424\">Government/EHS News</a>\\n</li>\\n<li>\\n<a href=\"http://www.afsinc.org/government/content.cfm?ItemNumber=15475&navItemNumber=15478\">Events and Webinars</a>\\n</li>\\n<li>\\n<a href=\"/government/content.cfm?ItemNumber=7056&navItemNumber=524\">Environmental (Air, Water, Waste)</a>\\n</li>\\n<li>\\n<a href=\"/government/content.cfm?ItemNumber=7854&navItemNumber=525\">Health & Safety</a>\\n</li>\\n<li>\\n<a href=\"http://www.afsinc.org/government/content.cfm?ItemNumber=19149&navItemNumber=19173\">OSHA\\'s Silica Rule</a>\\n</li>\\n<li>\\n<a href=\"/government/content.cfm?ItemNumber=7455&navItemNumber=526\">Policy Issues in D.C.</a>\\n</li>\\n<li>\\n<a href=\"/government/content.cfm?ItemNumber=8522&navItemNumber=527\">Federal Agencies & North American Associations</a>\\n</li>\\n<li>\\n<a href=\"/government/AFSFirst.cfm?ItemNumber=7887&navItemNumber=528\">AFS-FIRST (Recycling)</a>\\n</li>\\n<li>\\n<a href=\"http://www.afsinc.org/government/content.cfm?ItemNumber=19424&navItemNumber=19425\">2016 Plant Tours</a>\\n</li></ul></div></li>\\n<li class=\"primary\">\\n<a href=\"/technical/?navItemNumber=504\">Technical & Management</a>\\n<div class=\"secondary\">\\n<div class=\"arrow\"></div>\\n<ul><li>\\n<a href=\"http://www.afslibrary.com/?navItemNumber=529\">Online Library</a>\\n</li>\\n<li>\\n<a href=\"http://www.afsinc.org/content.cfm?ItemNumber=19600&navItemNumber=530\">Committees</a>\\n</li>\\n<li>\\n<a href=\"/technical/content.cfm?ItemNumber=6972&navItemNumber=531\">Research & Development</a>\\n</li>\\n<li>\\n<a href=\"http://www.afsinc.org/news/CCLanding.cfm?navItemNumber=19357&navItemNumber=532\">Metalcasting Congress</a>\\n</li>\\n<li>\\n<a href=\"/technical/IJM.cfm?navItemNumber=533\">International Journal of Metalcasting</a>\\n</li>\\n<li>\\n<a href=\"/technical/content.cfm?ItemNumber=7151&navItemNumber=10370\">Marketing</a>\\n</li>\\n<li>\\n<a href=\"/content.cfm?ItemNumber=7159&navItemNumber=10371\">Human Resources</a>\\n</li>\\n<li>\\n<a href=\"/technical/content.cfm?ItemNumber=7117&navItemNumber=612&navItemNumber=10372\">Energy</a>\\n</li>\\n<li>\\n<a href=\"/buyer.cfm?navItemNumber=10373\">Designer & Buyer Resources</a>\\n</li></ul></div></li>\\n<li class=\"primary\">\\n<a href=\"/about/?navItemNumber=505\">About AFS & the Institute</a>\\n<div class=\"secondary\">\\n<div class=\"arrow\"></div>\\n<ul><li>\\n<a href=\"http://www.afsinc.org/about/content.cfm?ItemNumber=13389&navItemNumber=13449\">What Is AFS & the Institute?</a>\\n</li>\\n<li>\\n<a href=\"/about/content.cfm?ItemNumber=6860&navItemNumber=538\">Membership</a>\\n</li>\\n<li>\\n<a href=\"/content.cfm?ItemNumber=7210&navItemNumber=7918\">Corporate Members</a>\\n</li>\\n<li>\\n<a href=\"/about/content.cfm?ItemNumber=10426&navItemNumber=7917\">Chapters</a>\\n</li>\\n<li>\\n<a href=\"http://www.afsinc.org/about/content.cfm?ItemNumber=8511&navItemNumber=15431\">Media Center</a>\\n</li>\\n<li>\\n<a href=\"http://castingconnection.afsinc.org?navItemNumber=15435\">CastingConnection</a>\\n</li>\\n<li>\\n<a href=\"/about/AFSStaffSpeakersBureau\">AFS Staff Speakers Bureau</a>\\n</li>\\n<li>\\n<a href=\"http://www.afsinc.org/about/content.cfm?ItemNumber=19450&navItemNumber=19451\">Board of Directors</a>\\n</li></ul></li>\\n</ul>\\n</div><!-- /header_bounds -->\\n</div><!-- /header -->\\n\\n\\n\\n\\n<script language=\"javascript\" src=\"/files/style/js/metalcasterdirectory.js\"></script>\\n<link type=\"text/css\" rel=\"stylesheet\" href=\"/files/style/metalcasterdirectory.css\">\\n\\n<div id=\"body_bounds\" class=\"interior clear\">\\n<div class=\"sidebar\">\\n<div class=\"side_nav\">\\n<h4>In This Section <span class=\"arrow\"></span></h4>\\n\\n\\n\\n\\n\\n\\n\\n<ul>\\n<li>\\n<a href=\"/multimedia/modernCasting.cfm?navItemNumber=511\">Modern Casting <span>+</span></a>\\n<ul><li>\\n<a href=\"/multimedia/modernCastingIndustryNews.cfm?navItemNumber=552\">Industry News</a>\\n</li>\\n<li>\\n<a href=\"/multimedia/modernCastingProductNews.cfm?navItemNumber=553\">Product News</a>\\n</li>\\n<li>\\n<a href=\"/multimedia/archiveMC.cfm?navItemNumber=8542\">Archives</a>\\n</li>\\n<li>\\n<a href=\"http://www.afsinc.org/multimedia/MCTV.cfm?navItemNumber=16402\">Metalcasting Videos</a>\\n</li>\\n<li>\\n<a href=\"/multimedia/GalleryListMC.cfm?navItemNumber=557\">Photo Galleries</a>\\n</li>\\n<li>\\n<a href=\"/applications/blog/Modern-Casting?navItemNumber=554\">Blog</a>\\n</li>\\n<li>\\n<a href=\"/multimedia/contentMC.cfm?ItemNumber=7576&navItemNumber=558\">Advertising</a>\\n</li>\\n<li>\\n<a href=\"/multimedia/contentMC.cfm?ItemNumber=7577&navItemNumber=10435\">Classifieds</a>\\n</li>\\n<li>\\n<a href=\"http://www.afsinc.org/multimedia/contentMC.cfm?ItemNumber=19111\">Online Buyer\\'s Guide</a>\\n</li>\\n<li>\\n<a href=\"/multimedia/contentMC.cfm?ItemNumber=10430&navItemNumber=10431\">Subscribe</a>\\n</li>\\n<li>\\n<a href=\"http://www.afsinc.org/multimedia/content.cfm?ItemNumber=15310&navItemNumber=15425\">Casting Competition</a>\\n</li>\\n<li>\\n<a href=\"http://www.afsinc.org/multimedia/contentMC.cfm?ItemNumber=15309&navItemNumber=15427\">Metalcaster of the Year</a>\\n</li>\\n<li>\\n<a href=\"http://www.afsinc.org/multimedia/MCTVChannel.cfm?metadataid=382&navItemNumber=18566\">Webinars</a>\\n</li></ul>\\n</li>\\n<li>\\n<a href=\"/multimedia/MCDP.cfm?navItemNumber=512\">Metal Casting Design & Purchasing <span>+</span></a>\\n<ul><li>\\n<a href=\"/multimedia/MCDPIndustryNews.cfm?navItemNumber=561\">Industry News</a>\\n</li>\\n<li>\\n<a href=\"/multimedia/archiveMCDP.cfm?navItemNumber=8543\">Archives</a>\\n</li>\\n<li>\\n<a href=\"http://www.afsinc.org/multimedia/MCTV.cfm?navItemNumber=16406\">Metalcasting Videos</a>\\n</li>\\n<li>\\n<a href=\"/multimedia/GalleryListMCDP.cfm?navItemNumber=565\">Photo Galleries</a>\\n</li>\\n<li>\\n<a href=\"/applications/blog/MetalCasting-Design--Purchasing?navItemNumber=562\">Blog</a>\\n</li>\\n<li>\\n<a href=\"/multimedia/contentMCDP.cfm?ItemNumber=6889&navItemNumber=566\">Advertising</a>\\n</li>\\n<li>\\n<a href=\"/multimedia/contentMCDP.cfm?ItemNumber=6887&navItemNumber=10436\">Classifieds</a>\\n</li>\\n<li>\\n<a href=\"http://www.afsinc.org/metalcasterdirectory/index.cfm\">Casting Source Directory</a>\\n</li>\\n<li>\\n<a href=\"/multimedia/contentMCDP.cfm?ItemNumber=10433&navItemNumber=10434\">Subscribe</a>\\n</li>\\n<li>\\n<a href=\"http://www.afsinc.org/multimedia/content.cfm?ItemNumber=15310&navItemNumber=15426\">Casting Competition</a>\\n</li>\\n<li>\\n<a href=\"http://www.afsinc.org/multimedia/MCTVChannel.cfm?metadataid=382&navItemNumber=18567\">Webinars</a>\\n</li></ul>\\n</li>\\n<li>\\n<a href=\"/multimedia/globalCasting.cfm?navItemNumber=513\">Global Casting <span>+</span></a>\\n<ul><li>\\n<a href=\"/multimedia/content.cfm?ItemNumber=7857&navItemNumber=569\">Advertise</a>\\n</li>\\n<li>\\n<a href=\"http://www.globalcastingmagazine.com?navItemNumber=7913\">Subscribe</a>\\n</li></ul>\\n</li>\\n<li>\\n<a href=\"/technical/IJM.cfm?navItemNumber=514\">International Journal of Metalcasting <span>+</span></a>\\n<ul><li>\\n<a href=\"http://www.springer.com/us/help/contact/your-contact-at-springer/31318?navItemNumber=7909\">Subscribe</a>\\n</li></ul>\\n</li>\\n<li>\\n<a href=\"http://meltingpoint.squarespace.com/?navItemNumber=19525\">Melting Point <span>+</span></a>\\n</li>\\n<li>\\n<a href=\"http://www.afsinc.org/multimedia/MCTV.cfm?navItemNumber=515\">Metalcasting TV <span>+</span></a>\\n<ul><li>\\n<a href=\"/multimedia/MCTVChannel.cfm?metadataid=370&navItemNumber=12384&navItemNumber=12384\">Design & Purchasing</a>\\n</li>\\n<li>\\n<a href=\"/Multimedia/MCTVChannel.cfm?metadataid=371&navItemNumber=12385&navItemNumber=12385\">Molding</a>\\n</li>\\n<li>\\n<a href=\"/multimedia/MCTVChannel.cfm?metadataid=372&navItemNumber=12386&navItemNumber=12386\">Melting</a>\\n</li>\\n<li>\\n<a href=\"/multimedia/MCTVChannel.cfm?metadataid=373&navItemNumber=12387&navItemNumber=12387\">News & Events</a>\\n</li>\\n<li>\\n<a href=\"/multimedia/MCTVChannel.cfm?metadataid=374&navItemNumber=12388&navItemNumber=12388\">Management & Business</a>\\n</li>\\n<li>\\n<a href=\"/multimedia/MCTVChannel.cfm?metadataid=375&navItemNumber=12389&navItemNumber=12389\">EH&S</a>\\n</li>\\n<li>\\n<a href=\"http://www.afsinc.org/multimedia/MCTVChannel.cfm?metadataid=376&navItemNumber=12704&navItemNumber=12704\">Quality</a>\\n</li>\\n<li>\\n<a href=\"/multimedia/MCTVChannel.cfm?metadataid=382&navItemNumber=16231\">Webinars</a>\\n</li></ul>\\n</li>\\n<li>\\n<a href=\"/multimedia/content.cfm?ItemNumber=7852&navItemNumber=517\">Castingpedia <span>+</span></a>\\n<ul><li>\\n<a href=\"/about/content.cfm?ItemNumber=8504&navItemNumber=8532\">Industry Statistics</a>\\n</li>\\n<li>\\n<a href=\"/content.cfm?ItemNumber=8505&navItemNumber=8533\">Casting Processes</a>\\n</li>\\n<li>\\n<a href=\"/content.cfm?PreviewContentItem=18901&navItemNumber=8534\">Casting Alloys</a>\\n</li>\\n<li>\\n<a href=\"/content.cfm?PreviewContentItem=18903&navItemNumber=8535\">EHS and OSHA Compliance</a>\\n</li>\\n<li>\\n<a href=\"/content.cfm?PreviewContentItem=18905&navItemNumber=8536\">Purchasing Castings</a>\\n</li>\\n<li>\\n<a href=\"/content.cfm?PreviewContentItem=18904&navItemNumber=8537\">Design Castings</a>\\n</li></ul>\\n</li>\\n<li>\\n<a href=\"http://www.afsinc.org/about/content.cfm?ItemNumber=7857&RDtoken=22534&navItemNumber=519\">Advertising <span>+</span></a>\\n<ul><li>\\n<a href=\"/multimedia/content.cfm?ItemNumber=7576&navItemNumber=594\">MODERN CASTING</a>\\n</li>\\n<li>\\n<a href=\"/multimedia/content.cfm?ItemNumber=6889&navItemNumber=595\">Metal Casting Design & Purchasing</a>\\n</li></ul>\\n</li>\\n<li>\\n<a href=\"http://www.afsinc.org/multimedia/blog.cfm?ItemNumber=19687&RDtoken=15130&userID=38243&navItemNumber=19685\">Member Connections Newsletter <span>+</span></a>\\n</li></ul>\\n</div>\\n</div>\\n<div class=\"main_content clear\">\\n<div class=\"ad ad_landing_top\">\\n\\n\\n\\n\\n\\n\\n\\n\\n\\n\\n\\n<a href=\"/applications/adspace/click.aspx?Dest=http%3A%2F%2Fwww%2Ewaupacafoundry%2Ecom%2Fen%2Firon%2Dcastings%2Fmarkets&amp;ItemNumber=17599\" onclick=\"return RDCMS.AdMetrics.click(this)\"><img src=\"/applications/adspace/serve.aspx?ItemNumber=17599\" id=\"RDCMSad89649\" class=\"rdcms_ad_image\" alt=\"x\" height=\"90\" width=\"728\" border=\"0\"></a><br />\\n\\n\\n\\n</div>\\n<div class=\"content_share_icons\"></div>\\n<p>\\n<button type=\"button\" onclick=\"document.location=\\'results.cfm?SearchParams=\\'\">Return to Search Results</button>\\n<button type=\"button\" onclick=\"document.location=\\'index.cfm\\'\">Search Again</button>\\n</p>\\n<p>\\n<span class=\"mcd-results-overview\"></span>\\n</p>\\n<div class=\"formatted_content\">\\n<h2 class=\"title\">GREDE - ST CLOUD</h2>\\n<p>\\n5200 Foundry Cir<br />\\nSaint Cloud, MN 56303-2032, US\\n</p>\\n<p>Telephone: (320) 202-3665</p>\\n<p>Fax: (320) 255-5200</p>\\n<p>Website: <a href=\"http://www.grede.com\" target=\"_blank\">www.grede.com</a></p>\\n<p>Employees: 345</p>\\n<p>Casting Weight: 5 To 400 (in LBS)</p>\\n<table class=\"mcd-list\" style=\"text-align: left;\">\\n<thead>\\n<tr><th style=\"text-align: left;\">Casting Processes</th></tr>\\n</thead>\\n<tbody>\\n<tr>\\n<td>Green Sand-Vertically Parted</td>\\n</tr>\\n<tr>\\n<td>Green Sand-Horizontally Parted</td>\\n</tr>\\n</tbody>\\n</table>\\n<table class=\"mcd-list\" style=\"text-align: left;\">\\n<thead>\\n<tr><th style=\"text-align: left;\">Metals</th></tr>\\n</thead>\\n<tbody>\\n<tr>\\n<td>Ductile Iron</td>\\n</tr>\\n</tbody>\\n</table>\\n<table class=\"mcd-list\" style=\"text-align: left;\">\\n<thead>\\n<tr><th style=\"text-align: left;\">Value Added Processes</th></tr>\\n</thead>\\n<tbody>\\n<tr>\\n<td>Assembly</td>\\n</tr>\\n<tr>\\n<td>Engineering and Design</td>\\n</tr>\\n<tr>\\n<td>Finish Machining</td>\\n</tr>\\n<tr>\\n<td>Heat Treat</td>\\n</tr>\\n<tr>\\n<td>Painting</td>\\n</tr>\\n<tr>\\n<td>Rough Machining</td>\\n</tr>\\n</tbody>\\n</table>\\n<p>\\n<form name=\"exportForm\" method=\"post\">\\n<button type=\"submit\">Export to File</button>\\n<button type=\"button\" onclick=\"document.location=\\'RequestAQuote.cfm?MetalCasterID=CSD00125396&SearchParams=\\'\">Request a Quote</button>\\n<button type=\"button\" onclick=\"document.location=\\'DirectoryListingUpdate.cfm?MetalCasterID=CSD00125396\\'\">Directory Listing Update</button>\\n</form>\\n</p>\\n<p>\\n<button type=\"button\" onclick=\"document.location=\\'results.cfm?SearchParams=\\'\">Return to Search Results</button>\\n<button type=\"button\" onclick=\"document.location=\\'index.cfm\\'\">Search Again</button>\\n</p>\\n<p>Metalcaster Directory v1.0 American Foundry Society</p>\\n<p>The information provided by the Metalcaster Directory is information based on data supplied by the listed firm. The exact capabilities of any metalcasting facility may be different than what is reported here. Please contact your casting supplier for its specific capabilities.</p>\\n</div>\\n<div class=\"ad ad_landing_bottom\">\\n\\n\\n\\n\\n\\n\\n\\n\\n<a href=\"/applications/adspace/click.aspx?Dest=http%3A%2F%2Fwww%2Ewaupacafoundry%2Ecom%2Fen%2Firon%2Dcastings%2Fmarkets&amp;ItemNumber=17599\" onclick=\"return RDCMS.AdMetrics.click(this)\"><img src=\"/applications/adspace/serve.aspx?ItemNumber=17599\" id=\"RDCMSad64194\" class=\"rdcms_ad_image\" alt=\"x\" height=\"90\" width=\"728\" border=\"0\"></a><br />\\n\\n\\n\\n</div>\\n</div>\\n</div>\\n<div id=\"footer\">\\n<div id=\"footer_bounds\">\\n<h4>American Foundry Society</h4>\\n<p style=\"color: #eee !important;\">1695 North Penny Lane<br />\\nSchaumburg, IL 60173<br />\\nTel: +1-800/537-4237, +1-847/824-0181<br />\\nFax:+1-847/824-7848</p>\\n<div id=\"footer_social\">\\n<a href=\"http://castingconnection.afsinc.org/home\" target=\"_blank\"><img src=\"/files/PageLayoutImages/icon%5Fcastingconnection.png \" alt=\"CastingConnection\" title=\"CastingConnection\" /></a>\\n<a href=\"http://www.linkedin.com/groups?gid=1796048\" target=\"_blank\"><img src=\"/files/PageLayoutImages/icon_linkedin.png\" alt=\"LinkedIn\" title=\"LinkedIn\" /></a>\\n<a href=\"http://www.facebook.com/americanfoundrysociety\" target=\"_blank\"><img src=\"/files/PageLayoutImages/icon_facebook.png\" alt=\"Facebook\" title=\"Facebook\" /></a>\\n<a href=\"https://twitter.com/#!/AmerFoundrySoc\" target=\"_blank\"><img src=\"/files/PageLayoutImages/icon_twitter.png\" alt=\"Twitter\" title=\"Twitter\" /></a>\\n</div>\\n<div id=\"footer_utility\">\\n\\n\\n\\n\\n\\n\\n\\n<a href=\"/news/news.cfm?ItemNumber=5361\" style=\"color: #eee !important;\">Privacy Policy</a>\\n<span>|</span>\\n<a href=\"/about/content.cfm?ItemNumber=7902\" style=\"color: #eee !important;\">Contact Us</a>\\n<span>|</span>\\n<a href=\"/siteMap.cfm\" style=\"color: #eee !important;\">Site Map</a>\\n<span>|</span>\\n<a href=\"/Account/login.cfm\" style=\"color: #eee !important;\">Log In</a>\\n</div><!-- /footer_utility -->\\n</div><!-- /footer_bounds -->\\n</div><!-- /footer -->\\n</body>\\n</html>'"
      ]
     },
     "execution_count": 5,
     "metadata": {},
     "output_type": "execute_result"
    }
   ],
   "source": [
    "response.content"
   ]
  },
  {
   "cell_type": "code",
   "execution_count": null,
   "metadata": {
    "collapsed": true
   },
   "outputs": [],
   "source": []
  }
 ],
 "metadata": {
  "anaconda-cloud": {},
  "kernelspec": {
   "display_name": "Python [conda root]",
   "language": "python",
   "name": "conda-root-py"
  },
  "language_info": {
   "codemirror_mode": {
    "name": "ipython",
    "version": 2
   },
   "file_extension": ".py",
   "mimetype": "text/x-python",
   "name": "python",
   "nbconvert_exporter": "python",
   "pygments_lexer": "ipython2",
   "version": "2.7.12"
  }
 },
 "nbformat": 4,
 "nbformat_minor": 1
}
