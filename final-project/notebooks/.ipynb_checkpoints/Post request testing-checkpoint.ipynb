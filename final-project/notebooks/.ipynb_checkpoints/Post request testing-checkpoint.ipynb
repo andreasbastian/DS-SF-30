{
 "cells": [
  {
   "cell_type": "code",
   "execution_count": 53,
   "metadata": {
    "collapsed": false
   },
   "outputs": [],
   "source": [
    "import mechanize\n",
    "import csv\n",
    "import pandas as pd\n",
    "import StringIO"
   ]
  },
  {
   "cell_type": "code",
   "execution_count": 100,
   "metadata": {
    "collapsed": false
   },
   "outputs": [],
   "source": [
    "br = mechanize.Browser()\n",
    "# br.set_all_readonly(False)    # allow everything to be written to\n",
    "br.set_handle_robots(False)   # ignore robots\n",
    "br.set_handle_refresh(False)  # can sometimes hang without this\n",
    "br.addheaders = [('User-agent', 'Firefox')]\n"
   ]
  },
  {
   "cell_type": "code",
   "execution_count": 101,
   "metadata": {
    "collapsed": false
   },
   "outputs": [],
   "source": [
    "url = \"http://www.afsinc.org/metalcasterdirectory/details.cfm?MetalCasterID=CSD00100296&SearchParams=\"\n",
    "response = br.open(url)"
   ]
  },
  {
   "cell_type": "code",
   "execution_count": 102,
   "metadata": {
    "collapsed": false
   },
   "outputs": [],
   "source": [
    "br.select_form(\"exportForm\")         # works when form has a name\n",
    "response = br.submit()"
   ]
  },
  {
   "cell_type": "code",
   "execution_count": 103,
   "metadata": {
    "collapsed": false
   },
   "outputs": [
    {
     "name": "stdout",
     "output_type": "stream",
     "text": [
      "\"Name\",\"Address\",\"City\",\"State\",\"Zip\",\"Country\",\"Website\",\"Phone\",\"Fax\",\"Employees\",\"Casting Size (From)\",\"Casting Size (To)\",\"Casting Processes\",\"Metals\",\"Value Added Processes\"\n",
      "\"ALU-BRA FOUNDRY INC\",\"630 E Green St\",\"Bensenville\",\"IL\",\"60106\",\"US\",\"http://www.alubra.com\",\"(630) 766-3112\",\"(630) 766-3307\",\"84\",\"0\",\"400\",\"Air-Set/Nobake,Gas-Hardened/Coldbox,Green Sand-Horizontally Parted\",\"Aluminum Magnesium (500 Series),Aluminum Silicon (300 Series),Mn/Al-Si Bronze + Cu-Ni Alloys,Other Aluminum,Other Copper-Base Alloys,Red/Yellow Brass/Tin-Bronze\",\"Engineering and Design,Finish Machining,Heat Treat,Patternmaking\"\n",
      "\n"
     ]
    }
   ],
   "source": [
    "q = response.read()\n",
    "print q"
   ]
  },
  {
   "cell_type": "markdown",
   "metadata": {},
   "source": [
    "~~~~\n",
    "d = []\n",
    "for p in game.players.passing():\n",
    "    d.append({'Player': p, 'Team': p.team, 'Passer Rating':\n",
    "        p.passer_rating()})\n",
    "\n",
    "pd.DataFrame(d) \n",
    "~~~~"
   ]
  },
  {
   "cell_type": "code",
   "execution_count": 119,
   "metadata": {
    "collapsed": false
   },
   "outputs": [
    {
     "data": {
      "text/html": [
       "<div>\n",
       "<table border=\"1\" class=\"dataframe\">\n",
       "  <thead>\n",
       "    <tr style=\"text-align: right;\">\n",
       "      <th></th>\n",
       "      <th>Address</th>\n",
       "      <th>Casting Processes</th>\n",
       "      <th>Casting Size (From)</th>\n",
       "      <th>Casting Size (To)</th>\n",
       "      <th>City</th>\n",
       "      <th>Country</th>\n",
       "      <th>Employees</th>\n",
       "      <th>Fax</th>\n",
       "      <th>Metals</th>\n",
       "      <th>Name</th>\n",
       "      <th>Phone</th>\n",
       "      <th>State</th>\n",
       "      <th>Value Added Processes</th>\n",
       "      <th>Website</th>\n",
       "      <th>Zip</th>\n",
       "    </tr>\n",
       "  </thead>\n",
       "  <tbody>\n",
       "    <tr>\n",
       "      <th>0</th>\n",
       "      <td>630 E Green St</td>\n",
       "      <td>Air-Set/Nobake,Gas-Hardened/Coldbox,Green Sand...</td>\n",
       "      <td>0</td>\n",
       "      <td>400</td>\n",
       "      <td>Bensenville</td>\n",
       "      <td>US</td>\n",
       "      <td>84</td>\n",
       "      <td>(630) 766-3307</td>\n",
       "      <td>Aluminum Magnesium (500 Series),Aluminum Silic...</td>\n",
       "      <td>ALU-BRA FOUNDRY INC</td>\n",
       "      <td>(630) 766-3112</td>\n",
       "      <td>IL</td>\n",
       "      <td>Engineering and Design,Finish Machining,Heat T...</td>\n",
       "      <td>http://www.alubra.com</td>\n",
       "      <td>60106</td>\n",
       "    </tr>\n",
       "  </tbody>\n",
       "</table>\n",
       "</div>"
      ],
      "text/plain": [
       "          Address                                  Casting Processes  \\\n",
       "0  630 E Green St  Air-Set/Nobake,Gas-Hardened/Coldbox,Green Sand...   \n",
       "\n",
       "  Casting Size (From) Casting Size (To)         City Country Employees  \\\n",
       "0                   0               400  Bensenville      US        84   \n",
       "\n",
       "              Fax                                             Metals  \\\n",
       "0  (630) 766-3307  Aluminum Magnesium (500 Series),Aluminum Silic...   \n",
       "\n",
       "                  Name           Phone State  \\\n",
       "0  ALU-BRA FOUNDRY INC  (630) 766-3112    IL   \n",
       "\n",
       "                               Value Added Processes                Website  \\\n",
       "0  Engineering and Design,Finish Machining,Heat T...  http://www.alubra.com   \n",
       "\n",
       "     Zip  \n",
       "0  60106  "
      ]
     },
     "execution_count": 119,
     "metadata": {},
     "output_type": "execute_result"
    }
   ],
   "source": [
    "q = str(q)\n",
    "reader = csv.reader(q.split('\\n'), delimiter=',')\n",
    "header =  reader.next()\n",
    "val = reader.next()\n",
    "\n",
    "d = []\n",
    "\n",
    "row = {}\n",
    "for i in range(len(header)):\n",
    "    row[header[i]] = val[i]\n",
    "    \n",
    "d.append(row)\n",
    "df = pd.DataFrame(d)\n",
    "df\n",
    "# for row in reader:\n",
    "#     print '\\t'.join(row)\n",
    "    \n"
   ]
  },
  {
   "cell_type": "markdown",
   "metadata": {},
   "source": [
    "## List all of the forms on the site"
   ]
  },
  {
   "cell_type": "code",
   "execution_count": 13,
   "metadata": {
    "collapsed": false
   },
   "outputs": [
    {
     "name": "stdout",
     "output_type": "stream",
     "text": [
      "Form name: None\n",
      "<GET http://www.afsinc.org/search/categorizedsearchresults.cfm application/x-www-form-urlencoded\n",
      "  <TextControl(keywords=)>\n",
      "  <SubmitControl(<None>=Go) (readonly)>>\n",
      "Form name: exportForm\n",
      "<exportForm POST http://www.afsinc.org/metalcasterdirectory/details.cfm?MetalCasterID=CSD00100296&SearchParams= application/x-www-form-urlencoded\n",
      "  <SubmitButtonControl(<None>=) (readonly)>\n",
      "  <IgnoreControl(<None>=<None>)>\n",
      "  <IgnoreControl(<None>=<None>)>>\n"
     ]
    }
   ],
   "source": [
    "for form in br.forms():\n",
    "    print \"Form name:\", form.name\n",
    "    print form"
   ]
  },
  {
   "cell_type": "markdown",
   "metadata": {},
   "source": [
    "## Select the form you want"
   ]
  },
  {
   "cell_type": "code",
   "execution_count": 14,
   "metadata": {
    "collapsed": true
   },
   "outputs": [],
   "source": [
    "br.select_form(\"exportForm\")         # works when form has a name"
   ]
  },
  {
   "cell_type": "markdown",
   "metadata": {},
   "source": [
    "## Get the response when you click it"
   ]
  },
  {
   "cell_type": "code",
   "execution_count": 77,
   "metadata": {
    "collapsed": false
   },
   "outputs": [
    {
     "ename": "BrowserStateError",
     "evalue": "not viewing HTML",
     "output_type": "error",
     "traceback": [
      "\u001b[0;31m---------------------------------------------------------------------------\u001b[0m",
      "\u001b[0;31mBrowserStateError\u001b[0m                         Traceback (most recent call last)",
      "\u001b[0;32m<ipython-input-77-2ef745063c65>\u001b[0m in \u001b[0;36m<module>\u001b[0;34m()\u001b[0m\n\u001b[0;32m----> 1\u001b[0;31m \u001b[0mresponse\u001b[0m \u001b[0;34m=\u001b[0m \u001b[0mbr\u001b[0m\u001b[0;34m.\u001b[0m\u001b[0msubmit\u001b[0m\u001b[0;34m(\u001b[0m\u001b[0;34m)\u001b[0m\u001b[0;34m\u001b[0m\u001b[0m\n\u001b[0m\u001b[1;32m      2\u001b[0m \u001b[0;32mprint\u001b[0m \u001b[0mresponse\u001b[0m\u001b[0;34m.\u001b[0m\u001b[0mread\u001b[0m\u001b[0;34m(\u001b[0m\u001b[0;34m)\u001b[0m\u001b[0;34m\u001b[0m\u001b[0m\n",
      "\u001b[0;32m/Users/andreasbastian/anaconda2/lib/python2.7/site-packages/mechanize/_mechanize.pyc\u001b[0m in \u001b[0;36msubmit\u001b[0;34m(self, *args, **kwds)\u001b[0m\n\u001b[1;32m    539\u001b[0m \u001b[0;34m\u001b[0m\u001b[0m\n\u001b[1;32m    540\u001b[0m         \"\"\"\n\u001b[0;32m--> 541\u001b[0;31m         \u001b[0;32mreturn\u001b[0m \u001b[0mself\u001b[0m\u001b[0;34m.\u001b[0m\u001b[0mopen\u001b[0m\u001b[0;34m(\u001b[0m\u001b[0mself\u001b[0m\u001b[0;34m.\u001b[0m\u001b[0mclick\u001b[0m\u001b[0;34m(\u001b[0m\u001b[0;34m*\u001b[0m\u001b[0margs\u001b[0m\u001b[0;34m,\u001b[0m \u001b[0;34m**\u001b[0m\u001b[0mkwds\u001b[0m\u001b[0;34m)\u001b[0m\u001b[0;34m)\u001b[0m\u001b[0;34m\u001b[0m\u001b[0m\n\u001b[0m\u001b[1;32m    542\u001b[0m \u001b[0;34m\u001b[0m\u001b[0m\n\u001b[1;32m    543\u001b[0m     \u001b[0;32mdef\u001b[0m \u001b[0mclick_link\u001b[0m\u001b[0;34m(\u001b[0m\u001b[0mself\u001b[0m\u001b[0;34m,\u001b[0m \u001b[0mlink\u001b[0m\u001b[0;34m=\u001b[0m\u001b[0mNone\u001b[0m\u001b[0;34m,\u001b[0m \u001b[0;34m**\u001b[0m\u001b[0mkwds\u001b[0m\u001b[0;34m)\u001b[0m\u001b[0;34m:\u001b[0m\u001b[0;34m\u001b[0m\u001b[0m\n",
      "\u001b[0;32m/Users/andreasbastian/anaconda2/lib/python2.7/site-packages/mechanize/_mechanize.pyc\u001b[0m in \u001b[0;36mclick\u001b[0;34m(self, *args, **kwds)\u001b[0m\n\u001b[1;32m    527\u001b[0m         \u001b[0;34m\"\"\"See mechanize.HTMLForm.click for documentation.\"\"\"\u001b[0m\u001b[0;34m\u001b[0m\u001b[0m\n\u001b[1;32m    528\u001b[0m         \u001b[0;32mif\u001b[0m \u001b[0;32mnot\u001b[0m \u001b[0mself\u001b[0m\u001b[0;34m.\u001b[0m\u001b[0mviewing_html\u001b[0m\u001b[0;34m(\u001b[0m\u001b[0;34m)\u001b[0m\u001b[0;34m:\u001b[0m\u001b[0;34m\u001b[0m\u001b[0m\n\u001b[0;32m--> 529\u001b[0;31m             \u001b[0;32mraise\u001b[0m \u001b[0mBrowserStateError\u001b[0m\u001b[0;34m(\u001b[0m\u001b[0;34m\"not viewing HTML\"\u001b[0m\u001b[0;34m)\u001b[0m\u001b[0;34m\u001b[0m\u001b[0m\n\u001b[0m\u001b[1;32m    530\u001b[0m         \u001b[0mrequest\u001b[0m \u001b[0;34m=\u001b[0m \u001b[0mself\u001b[0m\u001b[0;34m.\u001b[0m\u001b[0mform\u001b[0m\u001b[0;34m.\u001b[0m\u001b[0mclick\u001b[0m\u001b[0;34m(\u001b[0m\u001b[0;34m*\u001b[0m\u001b[0margs\u001b[0m\u001b[0;34m,\u001b[0m \u001b[0;34m**\u001b[0m\u001b[0mkwds\u001b[0m\u001b[0;34m)\u001b[0m\u001b[0;34m\u001b[0m\u001b[0m\n\u001b[1;32m    531\u001b[0m         \u001b[0;32mreturn\u001b[0m \u001b[0mself\u001b[0m\u001b[0;34m.\u001b[0m\u001b[0m_add_referer_header\u001b[0m\u001b[0;34m(\u001b[0m\u001b[0mrequest\u001b[0m\u001b[0;34m)\u001b[0m\u001b[0;34m\u001b[0m\u001b[0m\n",
      "\u001b[0;31mBrowserStateError\u001b[0m: not viewing HTML"
     ]
    }
   ],
   "source": [
    "response = br.submit()\n",
    "print response.read()"
   ]
  },
  {
   "cell_type": "code",
   "execution_count": null,
   "metadata": {
    "collapsed": true
   },
   "outputs": [],
   "source": []
  }
 ],
 "metadata": {
  "anaconda-cloud": {},
  "kernelspec": {
   "display_name": "Python [conda root]",
   "language": "python",
   "name": "conda-root-py"
  },
  "language_info": {
   "codemirror_mode": {
    "name": "ipython",
    "version": 2
   },
   "file_extension": ".py",
   "mimetype": "text/x-python",
   "name": "python",
   "nbconvert_exporter": "python",
   "pygments_lexer": "ipython2",
   "version": "2.7.12"
  }
 },
 "nbformat": 4,
 "nbformat_minor": 1
}
